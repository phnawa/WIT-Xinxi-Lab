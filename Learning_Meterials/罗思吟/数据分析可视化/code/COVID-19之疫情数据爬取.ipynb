{
 "cells": [
  {
   "cell_type": "markdown",
   "metadata": {},
   "source": [
    "首先导入使用的包，使用request进行网页请求，使用pandas保存数据"
   ]
  },
  {
   "cell_type": "code",
   "execution_count": null,
   "metadata": {},
   "outputs": [],
   "source": [
    "import requests\n",
    "import pandas as pd\n",
    "import time "
   ]
  },
  {
   "cell_type": "markdown",
   "metadata": {},
   "source": [
    "设置请求头，伪装为浏览器"
   ]
  },
  {
   "cell_type": "code",
   "execution_count": 4,
   "metadata": {},
   "outputs": [],
   "source": [
    "headers = {\n",
    "    'user-agent': 'Mozilla/5.0 (Windows NT 10.0; WOW64) AppleWebKit/537.36 (KHTML, like Gecko) Chrome/84.0.4147.13 Safari/537.36'\n",
    "}"
   ]
  },
  {
   "cell_type": "markdown",
   "metadata": {},
   "source": [
    "发起请求，将找到的第一个数据源作为请求目标"
   ]
  },
  {
   "cell_type": "code",
   "execution_count": 5,
   "metadata": {},
   "outputs": [],
   "source": [
    "url = 'https://c.m.163.com/ug/api/wuhan/app/data/list-total'   # 定义要访问的地址 \n",
    "r = requests.get(url, headers=headers)  # 使用requests发起请求"
   ]
  },
  {
   "cell_type": "code",
   "execution_count": 6,
   "metadata": {},
   "outputs": [
    {
     "name": "stdout",
     "output_type": "stream",
     "text": [
      "200\n"
     ]
    }
   ],
   "source": [
    "print(r.status_code)  # 查看请求状态"
   ]
  },
  {
   "cell_type": "code",
   "execution_count": 7,
   "metadata": {},
   "outputs": [
    {
     "name": "stdout",
     "output_type": "stream",
     "text": [
      "<class 'str'>\n",
      "321018\n"
     ]
    }
   ],
   "source": [
    "print(type(r.text))\n",
    "print(len(r.text))"
   ]
  },
  {
   "cell_type": "markdown",
   "metadata": {},
   "source": [
    "可以看到返回后的内容是一个几十万长度的字符串，由于字符串格式不方便进行分析，并且在网页预览中发现数据为类似字典的json格式，所以我们将其转为json格式"
   ]
  },
  {
   "cell_type": "code",
   "execution_count": 8,
   "metadata": {},
   "outputs": [],
   "source": [
    "import json\n",
    "data_json = json.loads(r.text)"
   ]
  },
  {
   "cell_type": "code",
   "execution_count": 9,
   "metadata": {},
   "outputs": [
    {
     "data": {
      "text/plain": [
       "dict"
      ]
     },
     "execution_count": 9,
     "metadata": {},
     "output_type": "execute_result"
    }
   ],
   "source": [
    "type(data_json)"
   ]
  },
  {
   "cell_type": "code",
   "execution_count": 10,
   "metadata": {},
   "outputs": [
    {
     "data": {
      "text/plain": [
       "dict_keys(['reqId', 'code', 'msg', 'data', 'timestamp'])"
      ]
     },
     "execution_count": 10,
     "metadata": {},
     "output_type": "execute_result"
    }
   ],
   "source": [
    "data_json.keys()"
   ]
  },
  {
   "cell_type": "markdown",
   "metadata": {},
   "source": [
    "可以看出在data中存放着我们需要的数据，因此我们取出数据"
   ]
  },
  {
   "cell_type": "code",
   "execution_count": 12,
   "metadata": {},
   "outputs": [
    {
     "data": {
      "text/plain": [
       "dict_keys(['chinaTotal', 'chinaDayList', 'lastUpdateTime', 'overseaLastUpdateTime', 'areaTree'])"
      ]
     },
     "execution_count": 12,
     "metadata": {},
     "output_type": "execute_result"
    }
   ],
   "source": [
    "data = data_json['data'] # 取出json中的数据\n",
    "data.keys()"
   ]
  },
  {
   "cell_type": "markdown",
   "metadata": {},
   "source": [
    " 数据中总共有四个键，每个键存储着不同的内容：\n",
    "\n",
    "\n",
    "|键名称 |数据内容|\n",
    "|:--|--:|\n",
    "|chinaTotal|全国当日数据|\n",
    "|chinaDayList|全国历史数据|\n",
    "|lastUpdateTime|更新时间|\n",
    "|areaTree|世界各地实时数据|\n",
    "\n",
    "接下来我们分别获取实时数据和历史数据。"
   ]
  },
  {
   "cell_type": "markdown",
   "metadata": {},
   "source": [
    "### 实时数据爬取\n",
    "#### 全国各省实时数据爬取"
   ]
  },
  {
   "cell_type": "markdown",
   "metadata": {},
   "source": [
    "首先我们抓取全国各省的实时数据，在areaTree键值对中，存放着世界各地的实时数据，areaTree是一个列表，每一个元素都是一个国家的数据，每一个元素的children是各国家省份的数据"
   ]
  },
  {
   "cell_type": "code",
   "execution_count": 13,
   "metadata": {},
   "outputs": [],
   "source": [
    "data_province = data['areaTree'][2]['children']  # 取出中国各省的实时数据children"
   ]
  },
  {
   "cell_type": "code",
   "execution_count": 14,
   "metadata": {},
   "outputs": [
    {
     "data": {
      "text/plain": [
       "list"
      ]
     },
     "execution_count": 14,
     "metadata": {},
     "output_type": "execute_result"
    }
   ],
   "source": [
    "type(data_province)"
   ]
  },
  {
   "cell_type": "markdown",
   "metadata": {},
   "source": [
    "data_province是列表格式，每个元素是一个省的实时数据，并且为字典格式，每个省的键名称全部相同"
   ]
  },
  {
   "cell_type": "code",
   "execution_count": 15,
   "metadata": {},
   "outputs": [
    {
     "data": {
      "text/plain": [
       "dict_keys(['today', 'total', 'extData', 'name', 'id', 'lastUpdateTime', 'children'])"
      ]
     },
     "execution_count": 15,
     "metadata": {},
     "output_type": "execute_result"
    }
   ],
   "source": [
    "data_province[0].keys() # 查看每个省键名称"
   ]
  },
  {
   "cell_type": "markdown",
   "metadata": {},
   "source": [
    "各省数据键值含义如下：<br>\n",
    "\n",
    "|键名称|数据内容|\n",
    "|:--|--:|\n",
    "|today|各省当日数据|\n",
    "|total|各省当日累计数据|\n",
    "|extData|无任何数据|\n",
    "|name|各省名称|\n",
    "|id |各省行政编号|\n",
    "|lastUpdateTime|更新时间|\n",
    "|children|各省下一级数据|"
   ]
  },
  {
   "cell_type": "code",
   "execution_count": 16,
   "metadata": {},
   "outputs": [
    {
     "name": "stdout",
     "output_type": "stream",
     "text": [
      "湖北 2020-07-01 00:04:02\n",
      "广东 2020-07-01 08:23:59\n",
      "河南 2020-07-01 00:04:01\n",
      "浙江 2020-07-01 00:04:02\n",
      "香港 2020-07-01 10:43:48\n",
      "湖南 2020-07-01 00:04:02\n"
     ]
    }
   ],
   "source": [
    "for i in range(len(data_province)): # 遍历查看各省名称、更新时间\n",
    "    print(data_province[i]['name'],data_province[i]['lastUpdateTime'])\n",
    "    if i == 5:\n",
    "        break"
   ]
  },
  {
   "cell_type": "markdown",
   "metadata": {},
   "source": [
    "用DataFrame以字典格式生成数据的例子，传入一个列表，列表每一个元素都是字典"
   ]
  },
  {
   "cell_type": "code",
   "execution_count": 17,
   "metadata": {},
   "outputs": [
    {
     "data": {
      "text/html": [
       "<div>\n",
       "<style scoped>\n",
       "    .dataframe tbody tr th:only-of-type {\n",
       "        vertical-align: middle;\n",
       "    }\n",
       "\n",
       "    .dataframe tbody tr th {\n",
       "        vertical-align: top;\n",
       "    }\n",
       "\n",
       "    .dataframe thead th {\n",
       "        text-align: right;\n",
       "    }\n",
       "</style>\n",
       "<table border=\"1\" class=\"dataframe\">\n",
       "  <thead>\n",
       "    <tr style=\"text-align: right;\">\n",
       "      <th></th>\n",
       "      <th>a</th>\n",
       "      <th>b</th>\n",
       "      <th>c</th>\n",
       "    </tr>\n",
       "  </thead>\n",
       "  <tbody>\n",
       "    <tr>\n",
       "      <th>0</th>\n",
       "      <td>1</td>\n",
       "      <td>2</td>\n",
       "      <td>3.0</td>\n",
       "    </tr>\n",
       "    <tr>\n",
       "      <th>1</th>\n",
       "      <td>111</td>\n",
       "      <td>222</td>\n",
       "      <td>NaN</td>\n",
       "    </tr>\n",
       "  </tbody>\n",
       "</table>\n",
       "</div>"
      ],
      "text/plain": [
       "     a    b    c\n",
       "0    1    2  3.0\n",
       "1  111  222  NaN"
      ]
     },
     "execution_count": 17,
     "metadata": {},
     "output_type": "execute_result"
    }
   ],
   "source": [
    "test_dict = [{'a':1,\n",
    "              'b':2,\n",
    "              'c':3,},\n",
    "             \n",
    "             {'a':111,\n",
    "              'b':222}]\n",
    "pd.DataFrame(test_dict)"
   ]
  },
  {
   "cell_type": "code",
   "execution_count": 18,
   "metadata": {},
   "outputs": [
    {
     "data": {
      "text/html": [
       "<div>\n",
       "<style scoped>\n",
       "    .dataframe tbody tr th:only-of-type {\n",
       "        vertical-align: middle;\n",
       "    }\n",
       "\n",
       "    .dataframe tbody tr th {\n",
       "        vertical-align: top;\n",
       "    }\n",
       "\n",
       "    .dataframe thead th {\n",
       "        text-align: right;\n",
       "    }\n",
       "</style>\n",
       "<table border=\"1\" class=\"dataframe\">\n",
       "  <thead>\n",
       "    <tr style=\"text-align: right;\">\n",
       "      <th></th>\n",
       "      <th>today</th>\n",
       "      <th>total</th>\n",
       "      <th>extData</th>\n",
       "      <th>name</th>\n",
       "      <th>id</th>\n",
       "      <th>lastUpdateTime</th>\n",
       "      <th>children</th>\n",
       "    </tr>\n",
       "  </thead>\n",
       "  <tbody>\n",
       "    <tr>\n",
       "      <th>0</th>\n",
       "      <td>{'confirm': 0, 'suspect': None, 'heal': 0, 'de...</td>\n",
       "      <td>{'confirm': 68135, 'suspect': 0, 'heal': 63623...</td>\n",
       "      <td>{}</td>\n",
       "      <td>湖北</td>\n",
       "      <td>420000</td>\n",
       "      <td>2020-07-01 00:04:02</td>\n",
       "      <td>[{'today': {'confirm': 0, 'suspect': None, 'he...</td>\n",
       "    </tr>\n",
       "    <tr>\n",
       "      <th>1</th>\n",
       "      <td>{'confirm': 0, 'suspect': None, 'heal': 0, 'de...</td>\n",
       "      <td>{'confirm': 1641, 'suspect': 0, 'heal': 1627, ...</td>\n",
       "      <td>{}</td>\n",
       "      <td>广东</td>\n",
       "      <td>440000</td>\n",
       "      <td>2020-07-01 08:23:59</td>\n",
       "      <td>[{'today': {'confirm': 0, 'suspect': None, 'he...</td>\n",
       "    </tr>\n",
       "    <tr>\n",
       "      <th>2</th>\n",
       "      <td>{'confirm': 0, 'suspect': None, 'heal': 0, 'de...</td>\n",
       "      <td>{'confirm': 1276, 'suspect': 0, 'heal': 1254, ...</td>\n",
       "      <td>{}</td>\n",
       "      <td>河南</td>\n",
       "      <td>410000</td>\n",
       "      <td>2020-07-01 00:04:01</td>\n",
       "      <td>[{'today': {'confirm': 0, 'suspect': None, 'he...</td>\n",
       "    </tr>\n",
       "    <tr>\n",
       "      <th>3</th>\n",
       "      <td>{'confirm': 0, 'suspect': None, 'heal': 0, 'de...</td>\n",
       "      <td>{'confirm': 1269, 'suspect': 0, 'heal': 1267, ...</td>\n",
       "      <td>{}</td>\n",
       "      <td>浙江</td>\n",
       "      <td>330000</td>\n",
       "      <td>2020-07-01 00:04:02</td>\n",
       "      <td>[{'today': {'confirm': 0, 'suspect': None, 'he...</td>\n",
       "    </tr>\n",
       "    <tr>\n",
       "      <th>4</th>\n",
       "      <td>{'confirm': 2, 'suspect': None, 'heal': 2, 'de...</td>\n",
       "      <td>{'confirm': 1205, 'suspect': 0, 'heal': 1107, ...</td>\n",
       "      <td>{}</td>\n",
       "      <td>香港</td>\n",
       "      <td>810000</td>\n",
       "      <td>2020-07-01 10:43:48</td>\n",
       "      <td>[{'today': {'confirm': 2, 'suspect': None, 'he...</td>\n",
       "    </tr>\n",
       "  </tbody>\n",
       "</table>\n",
       "</div>"
      ],
      "text/plain": [
       "                                               today  \\\n",
       "0  {'confirm': 0, 'suspect': None, 'heal': 0, 'de...   \n",
       "1  {'confirm': 0, 'suspect': None, 'heal': 0, 'de...   \n",
       "2  {'confirm': 0, 'suspect': None, 'heal': 0, 'de...   \n",
       "3  {'confirm': 0, 'suspect': None, 'heal': 0, 'de...   \n",
       "4  {'confirm': 2, 'suspect': None, 'heal': 2, 'de...   \n",
       "\n",
       "                                               total extData name      id  \\\n",
       "0  {'confirm': 68135, 'suspect': 0, 'heal': 63623...      {}   湖北  420000   \n",
       "1  {'confirm': 1641, 'suspect': 0, 'heal': 1627, ...      {}   广东  440000   \n",
       "2  {'confirm': 1276, 'suspect': 0, 'heal': 1254, ...      {}   河南  410000   \n",
       "3  {'confirm': 1269, 'suspect': 0, 'heal': 1267, ...      {}   浙江  330000   \n",
       "4  {'confirm': 1205, 'suspect': 0, 'heal': 1107, ...      {}   香港  810000   \n",
       "\n",
       "        lastUpdateTime                                           children  \n",
       "0  2020-07-01 00:04:02  [{'today': {'confirm': 0, 'suspect': None, 'he...  \n",
       "1  2020-07-01 08:23:59  [{'today': {'confirm': 0, 'suspect': None, 'he...  \n",
       "2  2020-07-01 00:04:01  [{'today': {'confirm': 0, 'suspect': None, 'he...  \n",
       "3  2020-07-01 00:04:02  [{'today': {'confirm': 0, 'suspect': None, 'he...  \n",
       "4  2020-07-01 10:43:48  [{'today': {'confirm': 2, 'suspect': None, 'he...  "
      ]
     },
     "execution_count": 18,
     "metadata": {},
     "output_type": "execute_result"
    }
   ],
   "source": [
    "pd.DataFrame(data_province).head() # 直接提取数据效果并不理想"
   ]
  },
  {
   "cell_type": "markdown",
   "metadata": {},
   "source": [
    "不能直接生成DataFrame是因为数据中嵌套着字典，例如湖北省数据如下：标红线表示带有嵌套字典，篮筐内没有嵌套字典。\n",
    "<img src=\"https://imgkr.cn-bj.ufileos.com/5714dd10-2a60-44fc-ab80-33ff1485f673.png\">"
   ]
  },
  {
   "cell_type": "markdown",
   "metadata": {},
   "source": [
    "逐个拆解数据，我们已经了解children为下一地级数据，我们只分析到省单位，因此各省的children数据不采集；extData为空值，也不采集，最后具体采集方法如下：\n",
    "\n",
    "不需要采集的数据：children、extData。\n",
    "需要采集的数据：由于数据中today和total嵌套着字典，因此不能直接获取，对于id、lastUpdateTime、name、可以直接取出为一个数据，today为一个数据，total为一个数据，最后三个数据合并为一个数据。"
   ]
  },
  {
   "cell_type": "code",
   "execution_count": 19,
   "metadata": {},
   "outputs": [
    {
     "data": {
      "text/html": [
       "<div>\n",
       "<style scoped>\n",
       "    .dataframe tbody tr th:only-of-type {\n",
       "        vertical-align: middle;\n",
       "    }\n",
       "\n",
       "    .dataframe tbody tr th {\n",
       "        vertical-align: top;\n",
       "    }\n",
       "\n",
       "    .dataframe thead th {\n",
       "        text-align: right;\n",
       "    }\n",
       "</style>\n",
       "<table border=\"1\" class=\"dataframe\">\n",
       "  <thead>\n",
       "    <tr style=\"text-align: right;\">\n",
       "      <th></th>\n",
       "      <th>id</th>\n",
       "      <th>lastUpdateTime</th>\n",
       "      <th>name</th>\n",
       "    </tr>\n",
       "  </thead>\n",
       "  <tbody>\n",
       "    <tr>\n",
       "      <th>0</th>\n",
       "      <td>420000</td>\n",
       "      <td>2020-07-01 00:04:02</td>\n",
       "      <td>湖北</td>\n",
       "    </tr>\n",
       "    <tr>\n",
       "      <th>1</th>\n",
       "      <td>440000</td>\n",
       "      <td>2020-07-01 08:23:59</td>\n",
       "      <td>广东</td>\n",
       "    </tr>\n",
       "    <tr>\n",
       "      <th>2</th>\n",
       "      <td>410000</td>\n",
       "      <td>2020-07-01 00:04:01</td>\n",
       "      <td>河南</td>\n",
       "    </tr>\n",
       "    <tr>\n",
       "      <th>3</th>\n",
       "      <td>330000</td>\n",
       "      <td>2020-07-01 00:04:02</td>\n",
       "      <td>浙江</td>\n",
       "    </tr>\n",
       "    <tr>\n",
       "      <th>4</th>\n",
       "      <td>810000</td>\n",
       "      <td>2020-07-01 10:43:48</td>\n",
       "      <td>香港</td>\n",
       "    </tr>\n",
       "  </tbody>\n",
       "</table>\n",
       "</div>"
      ],
      "text/plain": [
       "       id       lastUpdateTime name\n",
       "0  420000  2020-07-01 00:04:02   湖北\n",
       "1  440000  2020-07-01 08:23:59   广东\n",
       "2  410000  2020-07-01 00:04:01   河南\n",
       "3  330000  2020-07-01 00:04:02   浙江\n",
       "4  810000  2020-07-01 10:43:48   香港"
      ]
     },
     "execution_count": 19,
     "metadata": {},
     "output_type": "execute_result"
    }
   ],
   "source": [
    "# 获取id、lastUpdateTime、name\n",
    "info = pd.DataFrame(data_province)[['id','lastUpdateTime','name']]\n",
    "info.head()"
   ]
  },
  {
   "cell_type": "code",
   "execution_count": 20,
   "metadata": {},
   "outputs": [
    {
     "data": {
      "text/plain": [
       "(34, 3)"
      ]
     },
     "execution_count": 20,
     "metadata": {},
     "output_type": "execute_result"
    }
   ],
   "source": [
    "info.shape"
   ]
  },
  {
   "cell_type": "markdown",
   "metadata": {},
   "source": [
    "列表推导式例子"
   ]
  },
  {
   "cell_type": "code",
   "execution_count": 21,
   "metadata": {},
   "outputs": [],
   "source": [
    "l1 = [1,1,1,2,2,2]"
   ]
  },
  {
   "cell_type": "code",
   "execution_count": 22,
   "metadata": {},
   "outputs": [
    {
     "data": {
      "text/plain": [
       "[2, 2, 2, 3, 3, 3]"
      ]
     },
     "execution_count": 22,
     "metadata": {},
     "output_type": "execute_result"
    }
   ],
   "source": [
    "l2 = [i+1 for i in l1 ]\n",
    "l2"
   ]
  },
  {
   "cell_type": "code",
   "execution_count": 23,
   "metadata": {},
   "outputs": [
    {
     "data": {
      "text/html": [
       "<div>\n",
       "<style scoped>\n",
       "    .dataframe tbody tr th:only-of-type {\n",
       "        vertical-align: middle;\n",
       "    }\n",
       "\n",
       "    .dataframe tbody tr th {\n",
       "        vertical-align: top;\n",
       "    }\n",
       "\n",
       "    .dataframe thead th {\n",
       "        text-align: right;\n",
       "    }\n",
       "</style>\n",
       "<table border=\"1\" class=\"dataframe\">\n",
       "  <thead>\n",
       "    <tr style=\"text-align: right;\">\n",
       "      <th></th>\n",
       "      <th>confirm</th>\n",
       "      <th>suspect</th>\n",
       "      <th>heal</th>\n",
       "      <th>dead</th>\n",
       "      <th>severe</th>\n",
       "      <th>storeConfirm</th>\n",
       "    </tr>\n",
       "  </thead>\n",
       "  <tbody>\n",
       "    <tr>\n",
       "      <th>0</th>\n",
       "      <td>0</td>\n",
       "      <td>None</td>\n",
       "      <td>0</td>\n",
       "      <td>0</td>\n",
       "      <td>None</td>\n",
       "      <td>0</td>\n",
       "    </tr>\n",
       "    <tr>\n",
       "      <th>1</th>\n",
       "      <td>0</td>\n",
       "      <td>None</td>\n",
       "      <td>0</td>\n",
       "      <td>0</td>\n",
       "      <td>None</td>\n",
       "      <td>0</td>\n",
       "    </tr>\n",
       "    <tr>\n",
       "      <th>2</th>\n",
       "      <td>0</td>\n",
       "      <td>None</td>\n",
       "      <td>0</td>\n",
       "      <td>0</td>\n",
       "      <td>None</td>\n",
       "      <td>0</td>\n",
       "    </tr>\n",
       "    <tr>\n",
       "      <th>3</th>\n",
       "      <td>0</td>\n",
       "      <td>None</td>\n",
       "      <td>0</td>\n",
       "      <td>0</td>\n",
       "      <td>None</td>\n",
       "      <td>0</td>\n",
       "    </tr>\n",
       "    <tr>\n",
       "      <th>4</th>\n",
       "      <td>2</td>\n",
       "      <td>None</td>\n",
       "      <td>2</td>\n",
       "      <td>0</td>\n",
       "      <td>None</td>\n",
       "      <td>0</td>\n",
       "    </tr>\n",
       "  </tbody>\n",
       "</table>\n",
       "</div>"
      ],
      "text/plain": [
       "   confirm suspect  heal  dead severe  storeConfirm\n",
       "0        0    None     0     0   None             0\n",
       "1        0    None     0     0   None             0\n",
       "2        0    None     0     0   None             0\n",
       "3        0    None     0     0   None             0\n",
       "4        2    None     2     0   None             0"
      ]
     },
     "execution_count": 23,
     "metadata": {},
     "output_type": "execute_result"
    }
   ],
   "source": [
    "# 获取today中的数据\n",
    "today_data = pd.DataFrame([province['today'] for province in data_province ]) \n",
    "today_data.head()"
   ]
  },
  {
   "cell_type": "code",
   "execution_count": 24,
   "metadata": {},
   "outputs": [
    {
     "data": {
      "text/plain": [
       "(34, 6)"
      ]
     },
     "execution_count": 24,
     "metadata": {},
     "output_type": "execute_result"
    }
   ],
   "source": [
    "today_data.shape"
   ]
  },
  {
   "cell_type": "code",
   "execution_count": 25,
   "metadata": {},
   "outputs": [
    {
     "data": {
      "text/plain": [
       "['today_confirm',\n",
       " 'today_suspect',\n",
       " 'today_heal',\n",
       " 'today_dead',\n",
       " 'today_severe',\n",
       " 'today_storeConfirm']"
      ]
     },
     "execution_count": 25,
     "metadata": {},
     "output_type": "execute_result"
    }
   ],
   "source": [
    "['today_'+i for i in today_data.columns]"
   ]
  },
  {
   "cell_type": "code",
   "execution_count": 26,
   "metadata": {},
   "outputs": [],
   "source": [
    "today_data.columns = ['today_'+i for i in today_data.columns] # 由于today中键名和total键名相同，因此需要修改列名称"
   ]
  },
  {
   "cell_type": "code",
   "execution_count": 27,
   "metadata": {},
   "outputs": [
    {
     "data": {
      "text/html": [
       "<div>\n",
       "<style scoped>\n",
       "    .dataframe tbody tr th:only-of-type {\n",
       "        vertical-align: middle;\n",
       "    }\n",
       "\n",
       "    .dataframe tbody tr th {\n",
       "        vertical-align: top;\n",
       "    }\n",
       "\n",
       "    .dataframe thead th {\n",
       "        text-align: right;\n",
       "    }\n",
       "</style>\n",
       "<table border=\"1\" class=\"dataframe\">\n",
       "  <thead>\n",
       "    <tr style=\"text-align: right;\">\n",
       "      <th></th>\n",
       "      <th>today_confirm</th>\n",
       "      <th>today_suspect</th>\n",
       "      <th>today_heal</th>\n",
       "      <th>today_dead</th>\n",
       "      <th>today_severe</th>\n",
       "      <th>today_storeConfirm</th>\n",
       "    </tr>\n",
       "  </thead>\n",
       "  <tbody>\n",
       "    <tr>\n",
       "      <th>0</th>\n",
       "      <td>0</td>\n",
       "      <td>None</td>\n",
       "      <td>0</td>\n",
       "      <td>0</td>\n",
       "      <td>None</td>\n",
       "      <td>0</td>\n",
       "    </tr>\n",
       "    <tr>\n",
       "      <th>1</th>\n",
       "      <td>0</td>\n",
       "      <td>None</td>\n",
       "      <td>0</td>\n",
       "      <td>0</td>\n",
       "      <td>None</td>\n",
       "      <td>0</td>\n",
       "    </tr>\n",
       "    <tr>\n",
       "      <th>2</th>\n",
       "      <td>0</td>\n",
       "      <td>None</td>\n",
       "      <td>0</td>\n",
       "      <td>0</td>\n",
       "      <td>None</td>\n",
       "      <td>0</td>\n",
       "    </tr>\n",
       "    <tr>\n",
       "      <th>3</th>\n",
       "      <td>0</td>\n",
       "      <td>None</td>\n",
       "      <td>0</td>\n",
       "      <td>0</td>\n",
       "      <td>None</td>\n",
       "      <td>0</td>\n",
       "    </tr>\n",
       "    <tr>\n",
       "      <th>4</th>\n",
       "      <td>2</td>\n",
       "      <td>None</td>\n",
       "      <td>2</td>\n",
       "      <td>0</td>\n",
       "      <td>None</td>\n",
       "      <td>0</td>\n",
       "    </tr>\n",
       "  </tbody>\n",
       "</table>\n",
       "</div>"
      ],
      "text/plain": [
       "   today_confirm today_suspect  today_heal  today_dead today_severe  \\\n",
       "0              0          None           0           0         None   \n",
       "1              0          None           0           0         None   \n",
       "2              0          None           0           0         None   \n",
       "3              0          None           0           0         None   \n",
       "4              2          None           2           0         None   \n",
       "\n",
       "   today_storeConfirm  \n",
       "0                   0  \n",
       "1                   0  \n",
       "2                   0  \n",
       "3                   0  \n",
       "4                   0  "
      ]
     },
     "execution_count": 27,
     "metadata": {},
     "output_type": "execute_result"
    }
   ],
   "source": [
    "today_data.head()"
   ]
  },
  {
   "cell_type": "code",
   "execution_count": 28,
   "metadata": {},
   "outputs": [
    {
     "data": {
      "text/html": [
       "<div>\n",
       "<style scoped>\n",
       "    .dataframe tbody tr th:only-of-type {\n",
       "        vertical-align: middle;\n",
       "    }\n",
       "\n",
       "    .dataframe tbody tr th {\n",
       "        vertical-align: top;\n",
       "    }\n",
       "\n",
       "    .dataframe thead th {\n",
       "        text-align: right;\n",
       "    }\n",
       "</style>\n",
       "<table border=\"1\" class=\"dataframe\">\n",
       "  <thead>\n",
       "    <tr style=\"text-align: right;\">\n",
       "      <th></th>\n",
       "      <th>total_confirm</th>\n",
       "      <th>total_suspect</th>\n",
       "      <th>total_heal</th>\n",
       "      <th>total_dead</th>\n",
       "      <th>total_severe</th>\n",
       "      <th>total_input</th>\n",
       "      <th>total_newConfirm</th>\n",
       "      <th>total_newDead</th>\n",
       "      <th>total_newHeal</th>\n",
       "    </tr>\n",
       "  </thead>\n",
       "  <tbody>\n",
       "    <tr>\n",
       "      <th>0</th>\n",
       "      <td>68135</td>\n",
       "      <td>0</td>\n",
       "      <td>63623</td>\n",
       "      <td>4512</td>\n",
       "      <td>0</td>\n",
       "      <td>0</td>\n",
       "      <td>NaN</td>\n",
       "      <td>NaN</td>\n",
       "      <td>NaN</td>\n",
       "    </tr>\n",
       "    <tr>\n",
       "      <th>1</th>\n",
       "      <td>1641</td>\n",
       "      <td>0</td>\n",
       "      <td>1627</td>\n",
       "      <td>8</td>\n",
       "      <td>0</td>\n",
       "      <td>0</td>\n",
       "      <td>NaN</td>\n",
       "      <td>NaN</td>\n",
       "      <td>NaN</td>\n",
       "    </tr>\n",
       "    <tr>\n",
       "      <th>2</th>\n",
       "      <td>1276</td>\n",
       "      <td>0</td>\n",
       "      <td>1254</td>\n",
       "      <td>22</td>\n",
       "      <td>0</td>\n",
       "      <td>0</td>\n",
       "      <td>NaN</td>\n",
       "      <td>NaN</td>\n",
       "      <td>NaN</td>\n",
       "    </tr>\n",
       "    <tr>\n",
       "      <th>3</th>\n",
       "      <td>1269</td>\n",
       "      <td>0</td>\n",
       "      <td>1267</td>\n",
       "      <td>1</td>\n",
       "      <td>0</td>\n",
       "      <td>0</td>\n",
       "      <td>NaN</td>\n",
       "      <td>NaN</td>\n",
       "      <td>NaN</td>\n",
       "    </tr>\n",
       "    <tr>\n",
       "      <th>4</th>\n",
       "      <td>1205</td>\n",
       "      <td>0</td>\n",
       "      <td>1107</td>\n",
       "      <td>7</td>\n",
       "      <td>0</td>\n",
       "      <td>0</td>\n",
       "      <td>NaN</td>\n",
       "      <td>NaN</td>\n",
       "      <td>NaN</td>\n",
       "    </tr>\n",
       "  </tbody>\n",
       "</table>\n",
       "</div>"
      ],
      "text/plain": [
       "   total_confirm  total_suspect  total_heal  total_dead  total_severe  \\\n",
       "0          68135              0       63623        4512             0   \n",
       "1           1641              0        1627           8             0   \n",
       "2           1276              0        1254          22             0   \n",
       "3           1269              0        1267           1             0   \n",
       "4           1205              0        1107           7             0   \n",
       "\n",
       "   total_input  total_newConfirm  total_newDead  total_newHeal  \n",
       "0            0               NaN            NaN            NaN  \n",
       "1            0               NaN            NaN            NaN  \n",
       "2            0               NaN            NaN            NaN  \n",
       "3            0               NaN            NaN            NaN  \n",
       "4            0               NaN            NaN            NaN  "
      ]
     },
     "execution_count": 28,
     "metadata": {},
     "output_type": "execute_result"
    }
   ],
   "source": [
    "# 获取total中的数据\n",
    "total_data = pd.DataFrame([province['total'] for province in data_province ])\n",
    "total_data.columns = ['total_'+i for i in total_data.columns]\n",
    "total_data.head()"
   ]
  },
  {
   "cell_type": "code",
   "execution_count": 29,
   "metadata": {},
   "outputs": [
    {
     "data": {
      "text/plain": [
       "(34, 9)"
      ]
     },
     "execution_count": 29,
     "metadata": {},
     "output_type": "execute_result"
    }
   ],
   "source": [
    "total_data.shape"
   ]
  },
  {
   "cell_type": "code",
   "execution_count": 30,
   "metadata": {},
   "outputs": [
    {
     "data": {
      "text/html": [
       "<div>\n",
       "<style scoped>\n",
       "    .dataframe tbody tr th:only-of-type {\n",
       "        vertical-align: middle;\n",
       "    }\n",
       "\n",
       "    .dataframe tbody tr th {\n",
       "        vertical-align: top;\n",
       "    }\n",
       "\n",
       "    .dataframe thead th {\n",
       "        text-align: right;\n",
       "    }\n",
       "</style>\n",
       "<table border=\"1\" class=\"dataframe\">\n",
       "  <thead>\n",
       "    <tr style=\"text-align: right;\">\n",
       "      <th></th>\n",
       "      <th>id</th>\n",
       "      <th>lastUpdateTime</th>\n",
       "      <th>name</th>\n",
       "      <th>total_confirm</th>\n",
       "      <th>total_suspect</th>\n",
       "      <th>total_heal</th>\n",
       "      <th>total_dead</th>\n",
       "      <th>total_severe</th>\n",
       "      <th>total_input</th>\n",
       "      <th>total_newConfirm</th>\n",
       "      <th>total_newDead</th>\n",
       "      <th>total_newHeal</th>\n",
       "      <th>today_confirm</th>\n",
       "      <th>today_suspect</th>\n",
       "      <th>today_heal</th>\n",
       "      <th>today_dead</th>\n",
       "      <th>today_severe</th>\n",
       "      <th>today_storeConfirm</th>\n",
       "    </tr>\n",
       "  </thead>\n",
       "  <tbody>\n",
       "    <tr>\n",
       "      <th>0</th>\n",
       "      <td>420000</td>\n",
       "      <td>2020-07-01 00:04:02</td>\n",
       "      <td>湖北</td>\n",
       "      <td>68135</td>\n",
       "      <td>0</td>\n",
       "      <td>63623</td>\n",
       "      <td>4512</td>\n",
       "      <td>0</td>\n",
       "      <td>0</td>\n",
       "      <td>NaN</td>\n",
       "      <td>NaN</td>\n",
       "      <td>NaN</td>\n",
       "      <td>0</td>\n",
       "      <td>None</td>\n",
       "      <td>0</td>\n",
       "      <td>0</td>\n",
       "      <td>None</td>\n",
       "      <td>0</td>\n",
       "    </tr>\n",
       "    <tr>\n",
       "      <th>1</th>\n",
       "      <td>440000</td>\n",
       "      <td>2020-07-01 08:23:59</td>\n",
       "      <td>广东</td>\n",
       "      <td>1641</td>\n",
       "      <td>0</td>\n",
       "      <td>1627</td>\n",
       "      <td>8</td>\n",
       "      <td>0</td>\n",
       "      <td>0</td>\n",
       "      <td>NaN</td>\n",
       "      <td>NaN</td>\n",
       "      <td>NaN</td>\n",
       "      <td>0</td>\n",
       "      <td>None</td>\n",
       "      <td>0</td>\n",
       "      <td>0</td>\n",
       "      <td>None</td>\n",
       "      <td>0</td>\n",
       "    </tr>\n",
       "    <tr>\n",
       "      <th>2</th>\n",
       "      <td>410000</td>\n",
       "      <td>2020-07-01 00:04:01</td>\n",
       "      <td>河南</td>\n",
       "      <td>1276</td>\n",
       "      <td>0</td>\n",
       "      <td>1254</td>\n",
       "      <td>22</td>\n",
       "      <td>0</td>\n",
       "      <td>0</td>\n",
       "      <td>NaN</td>\n",
       "      <td>NaN</td>\n",
       "      <td>NaN</td>\n",
       "      <td>0</td>\n",
       "      <td>None</td>\n",
       "      <td>0</td>\n",
       "      <td>0</td>\n",
       "      <td>None</td>\n",
       "      <td>0</td>\n",
       "    </tr>\n",
       "    <tr>\n",
       "      <th>3</th>\n",
       "      <td>330000</td>\n",
       "      <td>2020-07-01 00:04:02</td>\n",
       "      <td>浙江</td>\n",
       "      <td>1269</td>\n",
       "      <td>0</td>\n",
       "      <td>1267</td>\n",
       "      <td>1</td>\n",
       "      <td>0</td>\n",
       "      <td>0</td>\n",
       "      <td>NaN</td>\n",
       "      <td>NaN</td>\n",
       "      <td>NaN</td>\n",
       "      <td>0</td>\n",
       "      <td>None</td>\n",
       "      <td>0</td>\n",
       "      <td>0</td>\n",
       "      <td>None</td>\n",
       "      <td>0</td>\n",
       "    </tr>\n",
       "    <tr>\n",
       "      <th>4</th>\n",
       "      <td>810000</td>\n",
       "      <td>2020-07-01 10:43:48</td>\n",
       "      <td>香港</td>\n",
       "      <td>1205</td>\n",
       "      <td>0</td>\n",
       "      <td>1107</td>\n",
       "      <td>7</td>\n",
       "      <td>0</td>\n",
       "      <td>0</td>\n",
       "      <td>NaN</td>\n",
       "      <td>NaN</td>\n",
       "      <td>NaN</td>\n",
       "      <td>2</td>\n",
       "      <td>None</td>\n",
       "      <td>2</td>\n",
       "      <td>0</td>\n",
       "      <td>None</td>\n",
       "      <td>0</td>\n",
       "    </tr>\n",
       "  </tbody>\n",
       "</table>\n",
       "</div>"
      ],
      "text/plain": [
       "       id       lastUpdateTime name  total_confirm  total_suspect  total_heal  \\\n",
       "0  420000  2020-07-01 00:04:02   湖北          68135              0       63623   \n",
       "1  440000  2020-07-01 08:23:59   广东           1641              0        1627   \n",
       "2  410000  2020-07-01 00:04:01   河南           1276              0        1254   \n",
       "3  330000  2020-07-01 00:04:02   浙江           1269              0        1267   \n",
       "4  810000  2020-07-01 10:43:48   香港           1205              0        1107   \n",
       "\n",
       "   total_dead  total_severe  total_input  total_newConfirm  total_newDead  \\\n",
       "0        4512             0            0               NaN            NaN   \n",
       "1           8             0            0               NaN            NaN   \n",
       "2          22             0            0               NaN            NaN   \n",
       "3           1             0            0               NaN            NaN   \n",
       "4           7             0            0               NaN            NaN   \n",
       "\n",
       "   total_newHeal  today_confirm today_suspect  today_heal  today_dead  \\\n",
       "0            NaN              0          None           0           0   \n",
       "1            NaN              0          None           0           0   \n",
       "2            NaN              0          None           0           0   \n",
       "3            NaN              0          None           0           0   \n",
       "4            NaN              2          None           2           0   \n",
       "\n",
       "  today_severe  today_storeConfirm  \n",
       "0         None                   0  \n",
       "1         None                   0  \n",
       "2         None                   0  \n",
       "3         None                   0  \n",
       "4         None                   0  "
      ]
     },
     "execution_count": 30,
     "metadata": {},
     "output_type": "execute_result"
    }
   ],
   "source": [
    "pd.concat([info,total_data,today_data],axis=1).head() # 将三个数据合并"
   ]
  },
  {
   "cell_type": "code",
   "execution_count": 32,
   "metadata": {},
   "outputs": [],
   "source": [
    "def get_data(data,info_list):\n",
    "    info = pd.DataFrame(data)[info_list] # 主要信息\n",
    "    \n",
    "    today_data = pd.DataFrame([i['today'] for i in data ])       # 提取today的数据\n",
    "    today_data.columns = ['today_'+i for i in today_data.columns] # 修改列名 columns\n",
    "    \n",
    "    total_data = pd.DataFrame([i['total'] for i in data ])       # 提取total的数据\n",
    "    total_data.columns = ['total_'+i for i in total_data.columns] # 修改列名 columns\n",
    "    \n",
    "    return pd.concat([info,total_data,today_data],axis=1) # info、today和total横向合并最终得到汇总的数据"
   ]
  },
  {
   "cell_type": "code",
   "execution_count": 33,
   "metadata": {},
   "outputs": [
    {
     "data": {
      "text/html": [
       "<div>\n",
       "<style scoped>\n",
       "    .dataframe tbody tr th:only-of-type {\n",
       "        vertical-align: middle;\n",
       "    }\n",
       "\n",
       "    .dataframe tbody tr th {\n",
       "        vertical-align: top;\n",
       "    }\n",
       "\n",
       "    .dataframe thead th {\n",
       "        text-align: right;\n",
       "    }\n",
       "</style>\n",
       "<table border=\"1\" class=\"dataframe\">\n",
       "  <thead>\n",
       "    <tr style=\"text-align: right;\">\n",
       "      <th></th>\n",
       "      <th>id</th>\n",
       "      <th>lastUpdateTime</th>\n",
       "      <th>name</th>\n",
       "      <th>total_confirm</th>\n",
       "      <th>total_suspect</th>\n",
       "      <th>total_heal</th>\n",
       "      <th>total_dead</th>\n",
       "      <th>total_severe</th>\n",
       "      <th>total_input</th>\n",
       "      <th>total_newConfirm</th>\n",
       "      <th>total_newDead</th>\n",
       "      <th>total_newHeal</th>\n",
       "      <th>today_confirm</th>\n",
       "      <th>today_suspect</th>\n",
       "      <th>today_heal</th>\n",
       "      <th>today_dead</th>\n",
       "      <th>today_severe</th>\n",
       "      <th>today_storeConfirm</th>\n",
       "    </tr>\n",
       "  </thead>\n",
       "  <tbody>\n",
       "    <tr>\n",
       "      <th>0</th>\n",
       "      <td>420000</td>\n",
       "      <td>2020-07-01 00:04:02</td>\n",
       "      <td>湖北</td>\n",
       "      <td>68135</td>\n",
       "      <td>0</td>\n",
       "      <td>63623</td>\n",
       "      <td>4512</td>\n",
       "      <td>0</td>\n",
       "      <td>0</td>\n",
       "      <td>NaN</td>\n",
       "      <td>NaN</td>\n",
       "      <td>NaN</td>\n",
       "      <td>0</td>\n",
       "      <td>None</td>\n",
       "      <td>0</td>\n",
       "      <td>0</td>\n",
       "      <td>None</td>\n",
       "      <td>0</td>\n",
       "    </tr>\n",
       "    <tr>\n",
       "      <th>1</th>\n",
       "      <td>440000</td>\n",
       "      <td>2020-07-01 08:23:59</td>\n",
       "      <td>广东</td>\n",
       "      <td>1641</td>\n",
       "      <td>0</td>\n",
       "      <td>1627</td>\n",
       "      <td>8</td>\n",
       "      <td>0</td>\n",
       "      <td>0</td>\n",
       "      <td>NaN</td>\n",
       "      <td>NaN</td>\n",
       "      <td>NaN</td>\n",
       "      <td>0</td>\n",
       "      <td>None</td>\n",
       "      <td>0</td>\n",
       "      <td>0</td>\n",
       "      <td>None</td>\n",
       "      <td>0</td>\n",
       "    </tr>\n",
       "    <tr>\n",
       "      <th>2</th>\n",
       "      <td>410000</td>\n",
       "      <td>2020-07-01 00:04:01</td>\n",
       "      <td>河南</td>\n",
       "      <td>1276</td>\n",
       "      <td>0</td>\n",
       "      <td>1254</td>\n",
       "      <td>22</td>\n",
       "      <td>0</td>\n",
       "      <td>0</td>\n",
       "      <td>NaN</td>\n",
       "      <td>NaN</td>\n",
       "      <td>NaN</td>\n",
       "      <td>0</td>\n",
       "      <td>None</td>\n",
       "      <td>0</td>\n",
       "      <td>0</td>\n",
       "      <td>None</td>\n",
       "      <td>0</td>\n",
       "    </tr>\n",
       "    <tr>\n",
       "      <th>3</th>\n",
       "      <td>330000</td>\n",
       "      <td>2020-07-01 00:04:02</td>\n",
       "      <td>浙江</td>\n",
       "      <td>1269</td>\n",
       "      <td>0</td>\n",
       "      <td>1267</td>\n",
       "      <td>1</td>\n",
       "      <td>0</td>\n",
       "      <td>0</td>\n",
       "      <td>NaN</td>\n",
       "      <td>NaN</td>\n",
       "      <td>NaN</td>\n",
       "      <td>0</td>\n",
       "      <td>None</td>\n",
       "      <td>0</td>\n",
       "      <td>0</td>\n",
       "      <td>None</td>\n",
       "      <td>0</td>\n",
       "    </tr>\n",
       "    <tr>\n",
       "      <th>4</th>\n",
       "      <td>810000</td>\n",
       "      <td>2020-07-01 10:43:48</td>\n",
       "      <td>香港</td>\n",
       "      <td>1205</td>\n",
       "      <td>0</td>\n",
       "      <td>1107</td>\n",
       "      <td>7</td>\n",
       "      <td>0</td>\n",
       "      <td>0</td>\n",
       "      <td>NaN</td>\n",
       "      <td>NaN</td>\n",
       "      <td>NaN</td>\n",
       "      <td>2</td>\n",
       "      <td>None</td>\n",
       "      <td>2</td>\n",
       "      <td>0</td>\n",
       "      <td>None</td>\n",
       "      <td>0</td>\n",
       "    </tr>\n",
       "  </tbody>\n",
       "</table>\n",
       "</div>"
      ],
      "text/plain": [
       "       id       lastUpdateTime name  total_confirm  total_suspect  total_heal  \\\n",
       "0  420000  2020-07-01 00:04:02   湖北          68135              0       63623   \n",
       "1  440000  2020-07-01 08:23:59   广东           1641              0        1627   \n",
       "2  410000  2020-07-01 00:04:01   河南           1276              0        1254   \n",
       "3  330000  2020-07-01 00:04:02   浙江           1269              0        1267   \n",
       "4  810000  2020-07-01 10:43:48   香港           1205              0        1107   \n",
       "\n",
       "   total_dead  total_severe  total_input  total_newConfirm  total_newDead  \\\n",
       "0        4512             0            0               NaN            NaN   \n",
       "1           8             0            0               NaN            NaN   \n",
       "2          22             0            0               NaN            NaN   \n",
       "3           1             0            0               NaN            NaN   \n",
       "4           7             0            0               NaN            NaN   \n",
       "\n",
       "   total_newHeal  today_confirm today_suspect  today_heal  today_dead  \\\n",
       "0            NaN              0          None           0           0   \n",
       "1            NaN              0          None           0           0   \n",
       "2            NaN              0          None           0           0   \n",
       "3            NaN              0          None           0           0   \n",
       "4            NaN              2          None           2           0   \n",
       "\n",
       "  today_severe  today_storeConfirm  \n",
       "0         None                   0  \n",
       "1         None                   0  \n",
       "2         None                   0  \n",
       "3         None                   0  \n",
       "4         None                   0  "
      ]
     },
     "execution_count": 33,
     "metadata": {},
     "output_type": "execute_result"
    }
   ],
   "source": [
    "today_province = get_data(data_province,['id','lastUpdateTime','name'])\n",
    "today_province.head()"
   ]
  },
  {
   "cell_type": "code",
   "execution_count": 34,
   "metadata": {},
   "outputs": [],
   "source": [
    "def save_data(data,name): # 定义保存数据方法\n",
    "    file_name = name+'_'+time.strftime('%Y_%m_%d',time.localtime(time.time()))+'.csv'\n",
    "    data.to_csv(file_name,index=None,encoding='utf_8_sig')\n",
    "    print(file_name+' 保存成功！')"
   ]
  },
  {
   "cell_type": "code",
   "execution_count": 35,
   "metadata": {},
   "outputs": [
    {
     "data": {
      "text/plain": [
       "'2020_07_01'"
      ]
     },
     "execution_count": 35,
     "metadata": {},
     "output_type": "execute_result"
    }
   ],
   "source": [
    "time.strftime('%Y_%m_%d',time.localtime(time.time()))"
   ]
  },
  {
   "cell_type": "code",
   "execution_count": 36,
   "metadata": {},
   "outputs": [
    {
     "name": "stdout",
     "output_type": "stream",
     "text": [
      "today_province_2020_07_01.csv 保存成功！\n"
     ]
    }
   ],
   "source": [
    "save_data(today_province,'today_province')"
   ]
  },
  {
   "cell_type": "markdown",
   "metadata": {},
   "source": [
    "#### 世界各国实时数据爬取"
   ]
  },
  {
   "cell_type": "markdown",
   "metadata": {},
   "source": [
    "之前已经了解到在json数据`data`中的`areaTree`是列表格式，每个元素都是一个国家的实时数据，每个元素的`children`是各国家省份的数据，现在我们提取世界各国实时数据。\n",
    "\n",
    "<img src=\"https://imgkr.cn-bj.ufileos.com/88e17c8a-d72a-4f55-933a-1f935ad10703.png\">"
   ]
  },
  {
   "cell_type": "code",
   "execution_count": 37,
   "metadata": {},
   "outputs": [],
   "source": [
    "areaTree = data['areaTree'] # 取出areaTree"
   ]
  },
  {
   "cell_type": "code",
   "execution_count": 38,
   "metadata": {},
   "outputs": [
    {
     "data": {
      "text/plain": [
       "{'today': {'confirm': 2,\n",
       "  'suspect': None,\n",
       "  'heal': 2,\n",
       "  'dead': 0,\n",
       "  'severe': None,\n",
       "  'storeConfirm': None},\n",
       " 'total': {'confirm': 1174,\n",
       "  'suspect': 0,\n",
       "  'heal': 1031,\n",
       "  'dead': 50,\n",
       "  'severe': 0,\n",
       "  'input': 0},\n",
       " 'extData': {},\n",
       " 'name': '突尼斯',\n",
       " 'id': '9577772',\n",
       " 'lastUpdateTime': '2020-07-01 01:08:30',\n",
       " 'children': []}"
      ]
     },
     "execution_count": 38,
     "metadata": {},
     "output_type": "execute_result"
    }
   ],
   "source": [
    "areaTree[0] # 查看第一个国家的数据"
   ]
  },
  {
   "cell_type": "markdown",
   "metadata": {},
   "source": [
    "`areaTree`中每个键值的含义：\n",
    "\n",
    "|键名称|数据内容|\n",
    "|--|--|\n",
    "|today|当日数据|\n",
    "|total|累计数据|\n",
    "|extData|无任何数据|\n",
    "|name|国家名称|\n",
    "|id |各国编号|\n",
    "|lastUpdateTime|更新时间|\n",
    "|children|各国下一级数据(例如省份或州)|"
   ]
  },
  {
   "cell_type": "code",
   "execution_count": 39,
   "metadata": {},
   "outputs": [
    {
     "name": "stdout",
     "output_type": "stream",
     "text": [
      "突尼斯 2020-07-01 01:08:30\n",
      "塞尔维亚 2020-07-01 00:03:26\n",
      "中国 2020-07-01 15:28:52\n",
      "日本 2020-06-15 07:16:58\n",
      "泰国 2020-07-01 15:48:53\n",
      "新加坡 2020-07-01 00:28:29\n"
     ]
    }
   ],
   "source": [
    "for i in range(len(areaTree)):  # 查看各国家名称和更新时间\n",
    "    print(areaTree[i]['name'],areaTree[i]['lastUpdateTime'])\n",
    "    if i == 5:\n",
    "        break"
   ]
  },
  {
   "cell_type": "markdown",
   "metadata": {},
   "source": [
    "从areaTree中提取每个国家的实时数据"
   ]
  },
  {
   "cell_type": "code",
   "execution_count": 40,
   "metadata": {},
   "outputs": [
    {
     "data": {
      "text/html": [
       "<div>\n",
       "<style scoped>\n",
       "    .dataframe tbody tr th:only-of-type {\n",
       "        vertical-align: middle;\n",
       "    }\n",
       "\n",
       "    .dataframe tbody tr th {\n",
       "        vertical-align: top;\n",
       "    }\n",
       "\n",
       "    .dataframe thead th {\n",
       "        text-align: right;\n",
       "    }\n",
       "</style>\n",
       "<table border=\"1\" class=\"dataframe\">\n",
       "  <thead>\n",
       "    <tr style=\"text-align: right;\">\n",
       "      <th></th>\n",
       "      <th>id</th>\n",
       "      <th>lastUpdateTime</th>\n",
       "      <th>name</th>\n",
       "      <th>total_confirm</th>\n",
       "      <th>total_suspect</th>\n",
       "      <th>total_heal</th>\n",
       "      <th>total_dead</th>\n",
       "      <th>total_severe</th>\n",
       "      <th>total_input</th>\n",
       "      <th>today_confirm</th>\n",
       "      <th>today_suspect</th>\n",
       "      <th>today_heal</th>\n",
       "      <th>today_dead</th>\n",
       "      <th>today_severe</th>\n",
       "      <th>today_storeConfirm</th>\n",
       "      <th>today_input</th>\n",
       "    </tr>\n",
       "  </thead>\n",
       "  <tbody>\n",
       "    <tr>\n",
       "      <th>0</th>\n",
       "      <td>9577772</td>\n",
       "      <td>2020-07-01 01:08:30</td>\n",
       "      <td>突尼斯</td>\n",
       "      <td>1174</td>\n",
       "      <td>0</td>\n",
       "      <td>1031</td>\n",
       "      <td>50</td>\n",
       "      <td>0</td>\n",
       "      <td>0.0</td>\n",
       "      <td>2.0</td>\n",
       "      <td>NaN</td>\n",
       "      <td>2.0</td>\n",
       "      <td>0.0</td>\n",
       "      <td>NaN</td>\n",
       "      <td>NaN</td>\n",
       "      <td>NaN</td>\n",
       "    </tr>\n",
       "    <tr>\n",
       "      <th>1</th>\n",
       "      <td>9507896</td>\n",
       "      <td>2020-07-01 00:03:26</td>\n",
       "      <td>塞尔维亚</td>\n",
       "      <td>14564</td>\n",
       "      <td>0</td>\n",
       "      <td>12662</td>\n",
       "      <td>277</td>\n",
       "      <td>0</td>\n",
       "      <td>0.0</td>\n",
       "      <td>276.0</td>\n",
       "      <td>NaN</td>\n",
       "      <td>0.0</td>\n",
       "      <td>0.0</td>\n",
       "      <td>NaN</td>\n",
       "      <td>NaN</td>\n",
       "      <td>NaN</td>\n",
       "    </tr>\n",
       "    <tr>\n",
       "      <th>2</th>\n",
       "      <td>0</td>\n",
       "      <td>2020-07-01 15:28:52</td>\n",
       "      <td>中国</td>\n",
       "      <td>85232</td>\n",
       "      <td>0</td>\n",
       "      <td>80071</td>\n",
       "      <td>4648</td>\n",
       "      <td>0</td>\n",
       "      <td>1918.0</td>\n",
       "      <td>5.0</td>\n",
       "      <td>NaN</td>\n",
       "      <td>17.0</td>\n",
       "      <td>0.0</td>\n",
       "      <td>NaN</td>\n",
       "      <td>-12.0</td>\n",
       "      <td>0.0</td>\n",
       "    </tr>\n",
       "    <tr>\n",
       "      <th>3</th>\n",
       "      <td>1</td>\n",
       "      <td>2020-06-15 07:16:58</td>\n",
       "      <td>日本</td>\n",
       "      <td>18241</td>\n",
       "      <td>0</td>\n",
       "      <td>16298</td>\n",
       "      <td>940</td>\n",
       "      <td>0</td>\n",
       "      <td>0.0</td>\n",
       "      <td>75.0</td>\n",
       "      <td>NaN</td>\n",
       "      <td>63.0</td>\n",
       "      <td>0.0</td>\n",
       "      <td>NaN</td>\n",
       "      <td>NaN</td>\n",
       "      <td>0.0</td>\n",
       "    </tr>\n",
       "    <tr>\n",
       "      <th>4</th>\n",
       "      <td>2</td>\n",
       "      <td>2020-07-01 15:48:53</td>\n",
       "      <td>泰国</td>\n",
       "      <td>3173</td>\n",
       "      <td>0</td>\n",
       "      <td>3059</td>\n",
       "      <td>58</td>\n",
       "      <td>0</td>\n",
       "      <td>0.0</td>\n",
       "      <td>2.0</td>\n",
       "      <td>NaN</td>\n",
       "      <td>3.0</td>\n",
       "      <td>0.0</td>\n",
       "      <td>NaN</td>\n",
       "      <td>NaN</td>\n",
       "      <td>NaN</td>\n",
       "    </tr>\n",
       "  </tbody>\n",
       "</table>\n",
       "</div>"
      ],
      "text/plain": [
       "        id       lastUpdateTime  name  total_confirm  total_suspect  \\\n",
       "0  9577772  2020-07-01 01:08:30   突尼斯           1174              0   \n",
       "1  9507896  2020-07-01 00:03:26  塞尔维亚          14564              0   \n",
       "2        0  2020-07-01 15:28:52    中国          85232              0   \n",
       "3        1  2020-06-15 07:16:58    日本          18241              0   \n",
       "4        2  2020-07-01 15:48:53    泰国           3173              0   \n",
       "\n",
       "   total_heal  total_dead  total_severe  total_input  today_confirm  \\\n",
       "0        1031          50             0          0.0            2.0   \n",
       "1       12662         277             0          0.0          276.0   \n",
       "2       80071        4648             0       1918.0            5.0   \n",
       "3       16298         940             0          0.0           75.0   \n",
       "4        3059          58             0          0.0            2.0   \n",
       "\n",
       "   today_suspect  today_heal  today_dead  today_severe  today_storeConfirm  \\\n",
       "0            NaN         2.0         0.0           NaN                 NaN   \n",
       "1            NaN         0.0         0.0           NaN                 NaN   \n",
       "2            NaN        17.0         0.0           NaN               -12.0   \n",
       "3            NaN        63.0         0.0           NaN                 NaN   \n",
       "4            NaN         3.0         0.0           NaN                 NaN   \n",
       "\n",
       "   today_input  \n",
       "0          NaN  \n",
       "1          NaN  \n",
       "2          0.0  \n",
       "3          0.0  \n",
       "4          NaN  "
      ]
     },
     "execution_count": 40,
     "metadata": {},
     "output_type": "execute_result"
    }
   ],
   "source": [
    "today_world = get_data(areaTree,['id','lastUpdateTime','name']) # areaTree\n",
    "today_world.head()"
   ]
  },
  {
   "cell_type": "code",
   "execution_count": 41,
   "metadata": {},
   "outputs": [
    {
     "name": "stdout",
     "output_type": "stream",
     "text": [
      "today_world_2020_07_01.csv 保存成功！\n"
     ]
    }
   ],
   "source": [
    "save_data(today_world,'today_world')"
   ]
  },
  {
   "cell_type": "markdown",
   "metadata": {},
   "source": [
    "### 历史数据爬取\n",
    "#### 全国历史数据爬取"
   ]
  },
  {
   "cell_type": "markdown",
   "metadata": {},
   "source": [
    "在数据`data`中，总共有四个键，其中`chinaDayList`存放着中国的历史数据，我们将其取出"
   ]
  },
  {
   "cell_type": "code",
   "execution_count": 42,
   "metadata": {},
   "outputs": [
    {
     "data": {
      "text/plain": [
       "dict_keys(['chinaTotal', 'chinaDayList', 'lastUpdateTime', 'overseaLastUpdateTime', 'areaTree'])"
      ]
     },
     "execution_count": 42,
     "metadata": {},
     "output_type": "execute_result"
    }
   ],
   "source": [
    "data.keys()"
   ]
  },
  {
   "cell_type": "code",
   "execution_count": 43,
   "metadata": {},
   "outputs": [],
   "source": [
    "chinaDayList = data['chinaDayList'] # 取出 chinaDayList"
   ]
  },
  {
   "cell_type": "markdown",
   "metadata": {},
   "source": [
    "chinaDayList中键值含义：\n",
    "\n",
    "|键名称|数据内容|\n",
    "|--|--|\n",
    "|date|日期|\n",
    "|today|当日数据|\n",
    "|total|累计数据|\n",
    "|lastUpdateTime|更新时间|\n",
    "\n",
    "<img src=\"https://imgkr.cn-bj.ufileos.com/34a1b1a8-ca39-411b-89b7-339641b94bf8.png\">"
   ]
  },
  {
   "cell_type": "code",
   "execution_count": 44,
   "metadata": {},
   "outputs": [
    {
     "data": {
      "text/plain": [
       "list"
      ]
     },
     "execution_count": 44,
     "metadata": {},
     "output_type": "execute_result"
    }
   ],
   "source": [
    "type(chinaDayList) # 查看chinaDayList的格式"
   ]
  },
  {
   "cell_type": "code",
   "execution_count": 45,
   "metadata": {},
   "outputs": [
    {
     "data": {
      "text/plain": [
       "{'date': '2020-01-13',\n",
       " 'today': {'confirm': 0,\n",
       "  'suspect': 0,\n",
       "  'heal': 0,\n",
       "  'dead': 0,\n",
       "  'severe': None,\n",
       "  'storeConfirm': 0,\n",
       "  'input': 0},\n",
       " 'total': {'confirm': 41,\n",
       "  'suspect': 0,\n",
       "  'heal': 0,\n",
       "  'dead': 1,\n",
       "  'severe': None,\n",
       "  'input': 0,\n",
       "  'storeConfirm': 0},\n",
       " 'extData': None,\n",
       " 'lastUpdateTime': None}"
      ]
     },
     "execution_count": 45,
     "metadata": {},
     "output_type": "execute_result"
    }
   ],
   "source": [
    "chinaDayList[0]"
   ]
  },
  {
   "cell_type": "markdown",
   "metadata": {},
   "source": [
    "可以看到`today`、`total`中也嵌套着字典，因此直接使用定义好的方法从`chinaDayList`中提取全国历史数据"
   ]
  },
  {
   "cell_type": "code",
   "execution_count": 46,
   "metadata": {},
   "outputs": [
    {
     "data": {
      "text/html": [
       "<div>\n",
       "<style scoped>\n",
       "    .dataframe tbody tr th:only-of-type {\n",
       "        vertical-align: middle;\n",
       "    }\n",
       "\n",
       "    .dataframe tbody tr th {\n",
       "        vertical-align: top;\n",
       "    }\n",
       "\n",
       "    .dataframe thead th {\n",
       "        text-align: right;\n",
       "    }\n",
       "</style>\n",
       "<table border=\"1\" class=\"dataframe\">\n",
       "  <thead>\n",
       "    <tr style=\"text-align: right;\">\n",
       "      <th></th>\n",
       "      <th>date</th>\n",
       "      <th>lastUpdateTime</th>\n",
       "      <th>total_confirm</th>\n",
       "      <th>total_suspect</th>\n",
       "      <th>total_heal</th>\n",
       "      <th>total_dead</th>\n",
       "      <th>total_severe</th>\n",
       "      <th>total_input</th>\n",
       "      <th>total_storeConfirm</th>\n",
       "      <th>today_confirm</th>\n",
       "      <th>today_suspect</th>\n",
       "      <th>today_heal</th>\n",
       "      <th>today_dead</th>\n",
       "      <th>today_severe</th>\n",
       "      <th>today_storeConfirm</th>\n",
       "      <th>today_input</th>\n",
       "    </tr>\n",
       "  </thead>\n",
       "  <tbody>\n",
       "    <tr>\n",
       "      <th>0</th>\n",
       "      <td>2020-01-13</td>\n",
       "      <td>None</td>\n",
       "      <td>41</td>\n",
       "      <td>0</td>\n",
       "      <td>0</td>\n",
       "      <td>1</td>\n",
       "      <td>None</td>\n",
       "      <td>0</td>\n",
       "      <td>0</td>\n",
       "      <td>0</td>\n",
       "      <td>0</td>\n",
       "      <td>0</td>\n",
       "      <td>0</td>\n",
       "      <td>None</td>\n",
       "      <td>0</td>\n",
       "      <td>0</td>\n",
       "    </tr>\n",
       "    <tr>\n",
       "      <th>1</th>\n",
       "      <td>2020-01-14</td>\n",
       "      <td>None</td>\n",
       "      <td>41</td>\n",
       "      <td>0</td>\n",
       "      <td>0</td>\n",
       "      <td>1</td>\n",
       "      <td>None</td>\n",
       "      <td>0</td>\n",
       "      <td>0</td>\n",
       "      <td>0</td>\n",
       "      <td>0</td>\n",
       "      <td>0</td>\n",
       "      <td>0</td>\n",
       "      <td>None</td>\n",
       "      <td>0</td>\n",
       "      <td>0</td>\n",
       "    </tr>\n",
       "    <tr>\n",
       "      <th>2</th>\n",
       "      <td>2020-01-15</td>\n",
       "      <td>None</td>\n",
       "      <td>41</td>\n",
       "      <td>0</td>\n",
       "      <td>5</td>\n",
       "      <td>2</td>\n",
       "      <td>None</td>\n",
       "      <td>0</td>\n",
       "      <td>0</td>\n",
       "      <td>0</td>\n",
       "      <td>0</td>\n",
       "      <td>0</td>\n",
       "      <td>0</td>\n",
       "      <td>None</td>\n",
       "      <td>0</td>\n",
       "      <td>0</td>\n",
       "    </tr>\n",
       "    <tr>\n",
       "      <th>3</th>\n",
       "      <td>2020-01-16</td>\n",
       "      <td>None</td>\n",
       "      <td>45</td>\n",
       "      <td>0</td>\n",
       "      <td>8</td>\n",
       "      <td>2</td>\n",
       "      <td>None</td>\n",
       "      <td>0</td>\n",
       "      <td>0</td>\n",
       "      <td>0</td>\n",
       "      <td>0</td>\n",
       "      <td>0</td>\n",
       "      <td>0</td>\n",
       "      <td>None</td>\n",
       "      <td>0</td>\n",
       "      <td>0</td>\n",
       "    </tr>\n",
       "    <tr>\n",
       "      <th>4</th>\n",
       "      <td>2020-01-17</td>\n",
       "      <td>None</td>\n",
       "      <td>62</td>\n",
       "      <td>0</td>\n",
       "      <td>12</td>\n",
       "      <td>2</td>\n",
       "      <td>None</td>\n",
       "      <td>0</td>\n",
       "      <td>0</td>\n",
       "      <td>0</td>\n",
       "      <td>0</td>\n",
       "      <td>0</td>\n",
       "      <td>0</td>\n",
       "      <td>None</td>\n",
       "      <td>0</td>\n",
       "      <td>0</td>\n",
       "    </tr>\n",
       "  </tbody>\n",
       "</table>\n",
       "</div>"
      ],
      "text/plain": [
       "         date lastUpdateTime  total_confirm  total_suspect  total_heal  \\\n",
       "0  2020-01-13           None             41              0           0   \n",
       "1  2020-01-14           None             41              0           0   \n",
       "2  2020-01-15           None             41              0           5   \n",
       "3  2020-01-16           None             45              0           8   \n",
       "4  2020-01-17           None             62              0          12   \n",
       "\n",
       "   total_dead total_severe  total_input  total_storeConfirm  today_confirm  \\\n",
       "0           1         None            0                   0              0   \n",
       "1           1         None            0                   0              0   \n",
       "2           2         None            0                   0              0   \n",
       "3           2         None            0                   0              0   \n",
       "4           2         None            0                   0              0   \n",
       "\n",
       "   today_suspect  today_heal  today_dead today_severe  today_storeConfirm  \\\n",
       "0              0           0           0         None                   0   \n",
       "1              0           0           0         None                   0   \n",
       "2              0           0           0         None                   0   \n",
       "3              0           0           0         None                   0   \n",
       "4              0           0           0         None                   0   \n",
       "\n",
       "   today_input  \n",
       "0            0  \n",
       "1            0  \n",
       "2            0  \n",
       "3            0  \n",
       "4            0  "
      ]
     },
     "execution_count": 46,
     "metadata": {},
     "output_type": "execute_result"
    }
   ],
   "source": [
    "alltime_China = get_data(chinaDayList,['date','lastUpdateTime'])  # date lastUpdateTime\n",
    "alltime_China.head()"
   ]
  },
  {
   "cell_type": "code",
   "execution_count": 47,
   "metadata": {},
   "outputs": [
    {
     "name": "stdout",
     "output_type": "stream",
     "text": [
      "alltime_China_2020_07_01.csv 保存成功！\n"
     ]
    }
   ],
   "source": [
    "save_data(alltime_China,'alltime_China')"
   ]
  },
  {
   "cell_type": "markdown",
   "metadata": {},
   "source": [
    "#### 全国各省历史数据爬取"
   ]
  },
  {
   "cell_type": "markdown",
   "metadata": {},
   "source": [
    "找到第二个数据地址https://c.m.163.com/ug/api/wuhan/app/data/list-by-area-code?areaCode=420000 ，在页面对比发现是湖北省的历史数据。\n",
    "<img src=\"https://imgkr.cn-bj.ufileos.com/7c5f2e47-8ec5-429c-b292-377c94c2e311.png\">"
   ]
  },
  {
   "cell_type": "markdown",
   "metadata": {},
   "source": [
    "先以其中一个省为例，先尝试获取其历史数据，其他的省可以使用同样的方法"
   ]
  },
  {
   "cell_type": "code",
   "execution_count": 49,
   "metadata": {},
   "outputs": [],
   "source": [
    "url = 'https://c.m.163.com/ug/api/wuhan/app/data/list-by-area-code?areaCode=420000' # 定义数据地址\n",
    "r = requests.get(url, headers=headers) # 进行请求\n",
    "data_json = json.loads(r.text) # 获取json数据"
   ]
  },
  {
   "cell_type": "code",
   "execution_count": 50,
   "metadata": {},
   "outputs": [
    {
     "data": {
      "text/plain": [
       "dict_keys(['reqId', 'code', 'msg', 'data', 'timestamp'])"
      ]
     },
     "execution_count": 50,
     "metadata": {},
     "output_type": "execute_result"
    }
   ],
   "source": [
    "data_json.keys()"
   ]
  },
  {
   "cell_type": "markdown",
   "metadata": {},
   "source": [
    "<img src=\"https://imgkr.cn-bj.ufileos.com/8b21333b-ea30-4f8b-b61a-65710f43cc4a.png\">"
   ]
  },
  {
   "cell_type": "markdown",
   "metadata": {},
   "source": [
    "在`list`中存放着数据"
   ]
  },
  {
   "cell_type": "code",
   "execution_count": 51,
   "metadata": {},
   "outputs": [
    {
     "data": {
      "text/plain": [
       "{'date': '2020-01-20',\n",
       " 'today': {'confirm': 0,\n",
       "  'suspect': 0,\n",
       "  'heal': 0,\n",
       "  'dead': 0,\n",
       "  'severe': None,\n",
       "  'storeConfirm': 0,\n",
       "  'input': 0},\n",
       " 'total': {'confirm': 270,\n",
       "  'suspect': 0,\n",
       "  'heal': 25,\n",
       "  'dead': 6,\n",
       "  'severe': None,\n",
       "  'input': 0,\n",
       "  'storeConfirm': 239},\n",
       " 'extData': None,\n",
       " 'lastUpdateTime': None}"
      ]
     },
     "execution_count": 51,
     "metadata": {},
     "output_type": "execute_result"
    }
   ],
   "source": [
    "data_json['data']['list'][0]"
   ]
  },
  {
   "cell_type": "markdown",
   "metadata": {},
   "source": [
    "可以看出一个省一天的的数据格式如上，这和之前的数据结构一样，因此可以使用之前的方法得到数据"
   ]
  },
  {
   "cell_type": "code",
   "execution_count": 52,
   "metadata": {},
   "outputs": [
    {
     "data": {
      "text/html": [
       "<div>\n",
       "<style scoped>\n",
       "    .dataframe tbody tr th:only-of-type {\n",
       "        vertical-align: middle;\n",
       "    }\n",
       "\n",
       "    .dataframe tbody tr th {\n",
       "        vertical-align: top;\n",
       "    }\n",
       "\n",
       "    .dataframe thead th {\n",
       "        text-align: right;\n",
       "    }\n",
       "</style>\n",
       "<table border=\"1\" class=\"dataframe\">\n",
       "  <thead>\n",
       "    <tr style=\"text-align: right;\">\n",
       "      <th></th>\n",
       "      <th>date</th>\n",
       "      <th>total_confirm</th>\n",
       "      <th>total_suspect</th>\n",
       "      <th>total_heal</th>\n",
       "      <th>total_dead</th>\n",
       "      <th>total_severe</th>\n",
       "      <th>total_input</th>\n",
       "      <th>total_storeConfirm</th>\n",
       "      <th>today_confirm</th>\n",
       "      <th>today_suspect</th>\n",
       "      <th>today_heal</th>\n",
       "      <th>today_dead</th>\n",
       "      <th>today_severe</th>\n",
       "      <th>today_storeConfirm</th>\n",
       "      <th>today_input</th>\n",
       "      <th>name</th>\n",
       "    </tr>\n",
       "  </thead>\n",
       "  <tbody>\n",
       "    <tr>\n",
       "      <th>0</th>\n",
       "      <td>2020-01-20</td>\n",
       "      <td>270</td>\n",
       "      <td>0</td>\n",
       "      <td>25</td>\n",
       "      <td>6</td>\n",
       "      <td>None</td>\n",
       "      <td>0</td>\n",
       "      <td>239</td>\n",
       "      <td>0</td>\n",
       "      <td>0</td>\n",
       "      <td>0</td>\n",
       "      <td>0</td>\n",
       "      <td>None</td>\n",
       "      <td>0</td>\n",
       "      <td>0</td>\n",
       "      <td>湖北省</td>\n",
       "    </tr>\n",
       "    <tr>\n",
       "      <th>1</th>\n",
       "      <td>2020-01-21</td>\n",
       "      <td>375</td>\n",
       "      <td>0</td>\n",
       "      <td>28</td>\n",
       "      <td>9</td>\n",
       "      <td>None</td>\n",
       "      <td>0</td>\n",
       "      <td>338</td>\n",
       "      <td>105</td>\n",
       "      <td>0</td>\n",
       "      <td>3</td>\n",
       "      <td>3</td>\n",
       "      <td>None</td>\n",
       "      <td>0</td>\n",
       "      <td>0</td>\n",
       "      <td>湖北省</td>\n",
       "    </tr>\n",
       "    <tr>\n",
       "      <th>2</th>\n",
       "      <td>2020-01-22</td>\n",
       "      <td>444</td>\n",
       "      <td>0</td>\n",
       "      <td>28</td>\n",
       "      <td>17</td>\n",
       "      <td>None</td>\n",
       "      <td>0</td>\n",
       "      <td>399</td>\n",
       "      <td>69</td>\n",
       "      <td>0</td>\n",
       "      <td>0</td>\n",
       "      <td>8</td>\n",
       "      <td>None</td>\n",
       "      <td>0</td>\n",
       "      <td>0</td>\n",
       "      <td>湖北省</td>\n",
       "    </tr>\n",
       "    <tr>\n",
       "      <th>3</th>\n",
       "      <td>2020-01-23</td>\n",
       "      <td>549</td>\n",
       "      <td>0</td>\n",
       "      <td>31</td>\n",
       "      <td>24</td>\n",
       "      <td>None</td>\n",
       "      <td>0</td>\n",
       "      <td>494</td>\n",
       "      <td>105</td>\n",
       "      <td>0</td>\n",
       "      <td>3</td>\n",
       "      <td>7</td>\n",
       "      <td>None</td>\n",
       "      <td>0</td>\n",
       "      <td>0</td>\n",
       "      <td>湖北省</td>\n",
       "    </tr>\n",
       "    <tr>\n",
       "      <th>4</th>\n",
       "      <td>2020-01-24</td>\n",
       "      <td>729</td>\n",
       "      <td>0</td>\n",
       "      <td>32</td>\n",
       "      <td>39</td>\n",
       "      <td>None</td>\n",
       "      <td>0</td>\n",
       "      <td>658</td>\n",
       "      <td>180</td>\n",
       "      <td>0</td>\n",
       "      <td>1</td>\n",
       "      <td>15</td>\n",
       "      <td>None</td>\n",
       "      <td>0</td>\n",
       "      <td>0</td>\n",
       "      <td>湖北省</td>\n",
       "    </tr>\n",
       "  </tbody>\n",
       "</table>\n",
       "</div>"
      ],
      "text/plain": [
       "         date  total_confirm  total_suspect  total_heal  total_dead  \\\n",
       "0  2020-01-20            270              0          25           6   \n",
       "1  2020-01-21            375              0          28           9   \n",
       "2  2020-01-22            444              0          28          17   \n",
       "3  2020-01-23            549              0          31          24   \n",
       "4  2020-01-24            729              0          32          39   \n",
       "\n",
       "  total_severe  total_input  total_storeConfirm  today_confirm  today_suspect  \\\n",
       "0         None            0                 239              0              0   \n",
       "1         None            0                 338            105              0   \n",
       "2         None            0                 399             69              0   \n",
       "3         None            0                 494            105              0   \n",
       "4         None            0                 658            180              0   \n",
       "\n",
       "   today_heal  today_dead today_severe  today_storeConfirm  today_input name  \n",
       "0           0           0         None                   0            0  湖北省  \n",
       "1           3           3         None                   0            0  湖北省  \n",
       "2           0           8         None                   0            0  湖北省  \n",
       "3           3           7         None                   0            0  湖北省  \n",
       "4           1          15         None                   0            0  湖北省  "
      ]
     },
     "execution_count": 52,
     "metadata": {},
     "output_type": "execute_result"
    }
   ],
   "source": [
    "data_test = get_data(data_json['data']['list'],['date'])  \n",
    "data_test['name'] = '湖北省'\n",
    "data_test.head()"
   ]
  },
  {
   "cell_type": "markdown",
   "metadata": {},
   "source": [
    "在湖北省历史数据的地址中，我们发现参数aeraCode=420000，而这刚好和全国各省实时数据today_province中的id对应."
   ]
  },
  {
   "cell_type": "code",
   "execution_count": 53,
   "metadata": {},
   "outputs": [
    {
     "data": {
      "text/html": [
       "<div>\n",
       "<style scoped>\n",
       "    .dataframe tbody tr th:only-of-type {\n",
       "        vertical-align: middle;\n",
       "    }\n",
       "\n",
       "    .dataframe tbody tr th {\n",
       "        vertical-align: top;\n",
       "    }\n",
       "\n",
       "    .dataframe thead th {\n",
       "        text-align: right;\n",
       "    }\n",
       "</style>\n",
       "<table border=\"1\" class=\"dataframe\">\n",
       "  <thead>\n",
       "    <tr style=\"text-align: right;\">\n",
       "      <th></th>\n",
       "      <th>id</th>\n",
       "      <th>name</th>\n",
       "    </tr>\n",
       "  </thead>\n",
       "  <tbody>\n",
       "    <tr>\n",
       "      <th>0</th>\n",
       "      <td>420000</td>\n",
       "      <td>湖北</td>\n",
       "    </tr>\n",
       "    <tr>\n",
       "      <th>1</th>\n",
       "      <td>440000</td>\n",
       "      <td>广东</td>\n",
       "    </tr>\n",
       "    <tr>\n",
       "      <th>2</th>\n",
       "      <td>410000</td>\n",
       "      <td>河南</td>\n",
       "    </tr>\n",
       "    <tr>\n",
       "      <th>3</th>\n",
       "      <td>330000</td>\n",
       "      <td>浙江</td>\n",
       "    </tr>\n",
       "    <tr>\n",
       "      <th>4</th>\n",
       "      <td>810000</td>\n",
       "      <td>香港</td>\n",
       "    </tr>\n",
       "  </tbody>\n",
       "</table>\n",
       "</div>"
      ],
      "text/plain": [
       "       id name\n",
       "0  420000   湖北\n",
       "1  440000   广东\n",
       "2  410000   河南\n",
       "3  330000   浙江\n",
       "4  810000   香港"
      ]
     },
     "execution_count": 53,
     "metadata": {},
     "output_type": "execute_result"
    }
   ],
   "source": [
    "today_province[['id','name']].head() # 输出前五行"
   ]
  },
  {
   "cell_type": "markdown",
   "metadata": {},
   "source": [
    "<img src=\"https://imgkr.cn-bj.ufileos.com/ccd2789b-9ead-4da1-b224-38525d9d6337.png\">"
   ]
  },
  {
   "cell_type": "markdown",
   "metadata": {},
   "source": [
    "因此为了得到每个省的历史数据，我们只需要将各省的行政代码作为参数传入这个地址即可，如下所示：<br>\n",
    "`https://c.m.163.com/ug/api/wuhan/app/data/list-by-area-code?areaCode=各省行政代码`<br>\n",
    "例如广东省历史数据的地址为：`https://c.m.163.com/ug/api/wuhan/app/data/list-by-area-code?areaCode=440000`<br>\n",
    "湖南省历史数据的地址为：`https://c.m.163.com/ug/api/wuhan/app/data/list-by-area-code?areaCode=430000`"
   ]
  },
  {
   "cell_type": "markdown",
   "metadata": {},
   "source": [
    "但是数据中并没有显示省的名称，因此需要写入每个省的名称。\n",
    "<img src=\"https://imgkr.cn-bj.ufileos.com/5110e7f4-d65f-4769-b803-f632927b08c0.png\">"
   ]
  },
  {
   "cell_type": "markdown",
   "metadata": {},
   "source": [
    "以一个简单的数据为例，展示生成字典的方法"
   ]
  },
  {
   "cell_type": "code",
   "execution_count": 54,
   "metadata": {},
   "outputs": [
    {
     "name": "stdout",
     "output_type": "stream",
     "text": [
      "1 q\n",
      "2 w\n",
      "3 e\n",
      "4 r\n"
     ]
    }
   ],
   "source": [
    "a = ['1','2','3','4']\n",
    "b = ['q','w','e','r']\n",
    "\n",
    "for i,j in zip(a, b):\n",
    "    print(i,j)"
   ]
  },
  {
   "cell_type": "code",
   "execution_count": 55,
   "metadata": {},
   "outputs": [
    {
     "data": {
      "text/plain": [
       "{'1': 'q', '2': 'w', '3': 'e', '4': 'r'}"
      ]
     },
     "execution_count": 55,
     "metadata": {},
     "output_type": "execute_result"
    }
   ],
   "source": [
    "{ i:j  for i,j in zip(a, b)}"
   ]
  },
  {
   "cell_type": "code",
   "execution_count": 63,
   "metadata": {},
   "outputs": [
    {
     "data": {
      "text/html": [
       "<div>\n",
       "<style scoped>\n",
       "    .dataframe tbody tr th:only-of-type {\n",
       "        vertical-align: middle;\n",
       "    }\n",
       "\n",
       "    .dataframe tbody tr th {\n",
       "        vertical-align: top;\n",
       "    }\n",
       "\n",
       "    .dataframe thead th {\n",
       "        text-align: right;\n",
       "    }\n",
       "</style>\n",
       "<table border=\"1\" class=\"dataframe\">\n",
       "  <thead>\n",
       "    <tr style=\"text-align: right;\">\n",
       "      <th></th>\n",
       "      <th>id</th>\n",
       "      <th>name</th>\n",
       "    </tr>\n",
       "  </thead>\n",
       "  <tbody>\n",
       "    <tr>\n",
       "      <th>0</th>\n",
       "      <td>420000</td>\n",
       "      <td>湖北</td>\n",
       "    </tr>\n",
       "    <tr>\n",
       "      <th>1</th>\n",
       "      <td>440000</td>\n",
       "      <td>广东</td>\n",
       "    </tr>\n",
       "    <tr>\n",
       "      <th>2</th>\n",
       "      <td>410000</td>\n",
       "      <td>河南</td>\n",
       "    </tr>\n",
       "    <tr>\n",
       "      <th>3</th>\n",
       "      <td>330000</td>\n",
       "      <td>浙江</td>\n",
       "    </tr>\n",
       "    <tr>\n",
       "      <th>4</th>\n",
       "      <td>810000</td>\n",
       "      <td>香港</td>\n",
       "    </tr>\n",
       "  </tbody>\n",
       "</table>\n",
       "</div>"
      ],
      "text/plain": [
       "       id name\n",
       "0  420000   湖北\n",
       "1  440000   广东\n",
       "2  410000   河南\n",
       "3  330000   浙江\n",
       "4  810000   香港"
      ]
     },
     "execution_count": 63,
     "metadata": {},
     "output_type": "execute_result"
    }
   ],
   "source": [
    "today_province[['id','name']].head()"
   ]
  },
  {
   "cell_type": "code",
   "execution_count": 65,
   "metadata": {},
   "outputs": [],
   "source": [
    "province_dict = { num:name for num,name in zip(today_province['id'],today_province['name']) } # zip"
   ]
  },
  {
   "cell_type": "code",
   "execution_count": 66,
   "metadata": {},
   "outputs": [
    {
     "name": "stdout",
     "output_type": "stream",
     "text": [
      "420000 湖北\n",
      "440000 广东\n",
      "410000 河南\n",
      "330000 浙江\n",
      "810000 香港\n"
     ]
    }
   ],
   "source": [
    "# 查看前五个内容\n",
    "count = 0\n",
    "for i in province_dict:\n",
    "    print(i,province_dict[i])\n",
    "    count += 1\n",
    "    if count == 5:\n",
    "        break"
   ]
  },
  {
   "cell_type": "markdown",
   "metadata": {},
   "source": [
    "每一个省的列名是相同的，因此多个省的数据合并起来就可以存入一个数据中，数据合并演示的例子如下："
   ]
  },
  {
   "cell_type": "code",
   "execution_count": 59,
   "metadata": {},
   "outputs": [
    {
     "data": {
      "text/html": [
       "<div>\n",
       "<style scoped>\n",
       "    .dataframe tbody tr th:only-of-type {\n",
       "        vertical-align: middle;\n",
       "    }\n",
       "\n",
       "    .dataframe tbody tr th {\n",
       "        vertical-align: top;\n",
       "    }\n",
       "\n",
       "    .dataframe thead th {\n",
       "        text-align: right;\n",
       "    }\n",
       "</style>\n",
       "<table border=\"1\" class=\"dataframe\">\n",
       "  <thead>\n",
       "    <tr style=\"text-align: right;\">\n",
       "      <th></th>\n",
       "      <th>a</th>\n",
       "      <th>b</th>\n",
       "      <th>c</th>\n",
       "    </tr>\n",
       "  </thead>\n",
       "  <tbody>\n",
       "    <tr>\n",
       "      <th>0</th>\n",
       "      <td>1</td>\n",
       "      <td>2</td>\n",
       "      <td>3.0</td>\n",
       "    </tr>\n",
       "    <tr>\n",
       "      <th>1</th>\n",
       "      <td>111</td>\n",
       "      <td>222</td>\n",
       "      <td>NaN</td>\n",
       "    </tr>\n",
       "  </tbody>\n",
       "</table>\n",
       "</div>"
      ],
      "text/plain": [
       "     a    b    c\n",
       "0    1    2  3.0\n",
       "1  111  222  NaN"
      ]
     },
     "execution_count": 59,
     "metadata": {},
     "output_type": "execute_result"
    }
   ],
   "source": [
    "df1 = pd.DataFrame([{'a':1,'b':2,'c':3,},{'a':111,'b':222}])\n",
    "df1"
   ]
  },
  {
   "cell_type": "code",
   "execution_count": 60,
   "metadata": {},
   "outputs": [
    {
     "data": {
      "text/html": [
       "<div>\n",
       "<style scoped>\n",
       "    .dataframe tbody tr th:only-of-type {\n",
       "        vertical-align: middle;\n",
       "    }\n",
       "\n",
       "    .dataframe tbody tr th {\n",
       "        vertical-align: top;\n",
       "    }\n",
       "\n",
       "    .dataframe thead th {\n",
       "        text-align: right;\n",
       "    }\n",
       "</style>\n",
       "<table border=\"1\" class=\"dataframe\">\n",
       "  <thead>\n",
       "    <tr style=\"text-align: right;\">\n",
       "      <th></th>\n",
       "      <th>a</th>\n",
       "      <th>b</th>\n",
       "      <th>c</th>\n",
       "    </tr>\n",
       "  </thead>\n",
       "  <tbody>\n",
       "    <tr>\n",
       "      <th>0</th>\n",
       "      <td>9</td>\n",
       "      <td>8.0</td>\n",
       "      <td>7</td>\n",
       "    </tr>\n",
       "    <tr>\n",
       "      <th>1</th>\n",
       "      <td>345</td>\n",
       "      <td>NaN</td>\n",
       "      <td>789</td>\n",
       "    </tr>\n",
       "  </tbody>\n",
       "</table>\n",
       "</div>"
      ],
      "text/plain": [
       "     a    b    c\n",
       "0    9  8.0    7\n",
       "1  345  NaN  789"
      ]
     },
     "execution_count": 60,
     "metadata": {},
     "output_type": "execute_result"
    }
   ],
   "source": [
    "df2 = pd.DataFrame([{'a':9,'b':8,'c':7,},{'a':345,'c':789}])\n",
    "df2"
   ]
  },
  {
   "cell_type": "code",
   "execution_count": 61,
   "metadata": {},
   "outputs": [
    {
     "data": {
      "text/html": [
       "<div>\n",
       "<style scoped>\n",
       "    .dataframe tbody tr th:only-of-type {\n",
       "        vertical-align: middle;\n",
       "    }\n",
       "\n",
       "    .dataframe tbody tr th {\n",
       "        vertical-align: top;\n",
       "    }\n",
       "\n",
       "    .dataframe thead th {\n",
       "        text-align: right;\n",
       "    }\n",
       "</style>\n",
       "<table border=\"1\" class=\"dataframe\">\n",
       "  <thead>\n",
       "    <tr style=\"text-align: right;\">\n",
       "      <th></th>\n",
       "      <th>a</th>\n",
       "      <th>b</th>\n",
       "      <th>c</th>\n",
       "    </tr>\n",
       "  </thead>\n",
       "  <tbody>\n",
       "    <tr>\n",
       "      <th>0</th>\n",
       "      <td>1</td>\n",
       "      <td>2.0</td>\n",
       "      <td>3.0</td>\n",
       "    </tr>\n",
       "    <tr>\n",
       "      <th>1</th>\n",
       "      <td>111</td>\n",
       "      <td>222.0</td>\n",
       "      <td>NaN</td>\n",
       "    </tr>\n",
       "    <tr>\n",
       "      <th>0</th>\n",
       "      <td>9</td>\n",
       "      <td>8.0</td>\n",
       "      <td>7.0</td>\n",
       "    </tr>\n",
       "    <tr>\n",
       "      <th>1</th>\n",
       "      <td>345</td>\n",
       "      <td>NaN</td>\n",
       "      <td>789.0</td>\n",
       "    </tr>\n",
       "  </tbody>\n",
       "</table>\n",
       "</div>"
      ],
      "text/plain": [
       "     a      b      c\n",
       "0    1    2.0    3.0\n",
       "1  111  222.0    NaN\n",
       "0    9    8.0    7.0\n",
       "1  345    NaN  789.0"
      ]
     },
     "execution_count": 61,
     "metadata": {},
     "output_type": "execute_result"
    }
   ],
   "source": [
    "df1 = pd.concat([df1,df2],axis=0)\n",
    "df1"
   ]
  },
  {
   "cell_type": "markdown",
   "metadata": {},
   "source": [
    "按照上述方法，得到每一个省的数据后，进行合并"
   ]
  },
  {
   "cell_type": "code",
   "execution_count": 67,
   "metadata": {},
   "outputs": [
    {
     "name": "stdout",
     "output_type": "stream",
     "text": [
      "-------------------- 湖北 成功 (164, 16) (164, 16) ,累计耗时: 0 --------------------\n",
      "-------------------- 广东 成功 (162, 16) (326, 16) ,累计耗时: 11 --------------------\n",
      "-------------------- 河南 成功 (162, 16) (488, 16) ,累计耗时: 21 --------------------\n",
      "-------------------- 浙江 成功 (160, 16) (648, 16) ,累计耗时: 31 --------------------\n",
      "-------------------- 香港 成功 (164, 16) (812, 16) ,累计耗时: 42 --------------------\n",
      "-------------------- 湖南 成功 (161, 16) (973, 16) ,累计耗时: 52 --------------------\n",
      "-------------------- 安徽 成功 (161, 16) (1134, 16) ,累计耗时: 62 --------------------\n",
      "-------------------- 黑龙江 成功 (153, 16) (1287, 16) ,累计耗时: 73 --------------------\n",
      "-------------------- 江西 成功 (162, 16) (1449, 16) ,累计耗时: 83 --------------------\n",
      "-------------------- 北京 成功 (156, 16) (1605, 16) ,累计耗时: 93 --------------------\n",
      "-------------------- 山东 成功 (156, 16) (1761, 16) ,累计耗时: 104 --------------------\n",
      "-------------------- 上海 成功 (148, 16) (1909, 16) ,累计耗时: 114 --------------------\n",
      "-------------------- 江苏 成功 (162, 16) (2071, 16) ,累计耗时: 124 --------------------\n",
      "-------------------- 四川 成功 (157, 16) (2228, 16) ,累计耗时: 134 --------------------\n",
      "-------------------- 重庆 成功 (163, 16) (2391, 16) ,累计耗时: 145 --------------------\n",
      "-------------------- 台湾 成功 (163, 16) (2554, 16) ,累计耗时: 155 --------------------\n",
      "-------------------- 福建 成功 (155, 16) (2709, 16) ,累计耗时: 166 --------------------\n",
      "-------------------- 河北 成功 (155, 16) (2864, 16) ,累计耗时: 176 --------------------\n",
      "-------------------- 陕西 成功 (155, 16) (3019, 16) ,累计耗时: 186 --------------------\n",
      "-------------------- 广西 成功 (162, 16) (3181, 16) ,累计耗时: 196 --------------------\n",
      "-------------------- 内蒙古 成功 (158, 16) (3339, 16) ,累计耗时: 207 --------------------\n",
      "-------------------- 山西 成功 (159, 16) (3498, 16) ,累计耗时: 217 --------------------\n",
      "-------------------- 天津 成功 (157, 16) (3655, 16) ,累计耗时: 227 --------------------\n",
      "-------------------- 云南 成功 (155, 16) (3810, 16) ,累计耗时: 238 --------------------\n",
      "-------------------- 海南 成功 (160, 16) (3970, 16) ,累计耗时: 248 --------------------\n",
      "-------------------- 甘肃 成功 (152, 16) (4122, 16) ,累计耗时: 258 --------------------\n",
      "-------------------- 吉林 成功 (157, 16) (4279, 16) ,累计耗时: 269 --------------------\n",
      "-------------------- 辽宁 成功 (151, 16) (4430, 16) ,累计耗时: 279 --------------------\n",
      "-------------------- 贵州 成功 (160, 16) (4590, 16) ,累计耗时: 290 --------------------\n",
      "-------------------- 新疆 成功 (164, 16) (4754, 16) ,累计耗时: 300 --------------------\n",
      "-------------------- 宁夏 成功 (160, 16) (4914, 16) ,累计耗时: 310 --------------------\n",
      "-------------------- 澳门 成功 (158, 16) (5072, 16) ,累计耗时: 320 --------------------\n",
      "-------------------- 青海 成功 (164, 16) (5236, 16) ,累计耗时: 330 --------------------\n",
      "-------------------- 西藏 成功 (164, 16) (5400, 16) ,累计耗时: 341 --------------------\n"
     ]
    }
   ],
   "source": [
    "start = time.time()\n",
    "for province_id in province_dict: # 遍历各省编号\n",
    "    \n",
    "    try:\n",
    "        # 按照省编号访问每个省的数据地址，并获取json数据\n",
    "        url = 'https://c.m.163.com/ug/api/wuhan/app/data/list-by-area-code?areaCode='+ province_id  \n",
    "        r = requests.get(url, headers=headers)\n",
    "        data_json = json.loads(r.text)\n",
    "        \n",
    "        # 提取各省数据，然后写入各省名称\n",
    "        province_data = get_data(data_json['data']['list'],['date'])\n",
    "        province_data['name'] = province_dict[province_id]\n",
    "        \n",
    "        # 合并数据\n",
    "        if province_id == '420000':\n",
    "            alltime_province = province_data\n",
    "        else:\n",
    "            alltime_province = pd.concat([alltime_province,province_data]) \n",
    "            \n",
    "        print('-'*20,province_dict[province_id],'成功',\n",
    "              province_data.shape,alltime_province.shape,\n",
    "              ',累计耗时:',round(time.time()-start),'-'*20)\n",
    "        \n",
    "        # 设置延迟等待\n",
    "        time.sleep(10)\n",
    "        \n",
    "    except:\n",
    "        print('-'*20,province_dict[province_id],'wrong','-'*20)"
   ]
  },
  {
   "cell_type": "code",
   "execution_count": 68,
   "metadata": {},
   "outputs": [
    {
     "name": "stdout",
     "output_type": "stream",
     "text": [
      "alltime_province_2020_07_01.csv 保存成功！\n"
     ]
    }
   ],
   "source": [
    "save_data(alltime_province,'alltime_province')"
   ]
  },
  {
   "cell_type": "markdown",
   "metadata": {},
   "source": [
    "#### 世界各国历史数据爬取"
   ]
  },
  {
   "cell_type": "code",
   "execution_count": 69,
   "metadata": {},
   "outputs": [],
   "source": [
    "url_italy = 'https://c.m.163.com/ug/api/wuhan/app/data/list-by-area-code?areaCode=15'  # 意大利的数据地址\n",
    "r = requests.get(url_italy, headers=headers) # 进行访问\n",
    "italy_json = json.loads(r.text) # 导出json数据"
   ]
  },
  {
   "cell_type": "code",
   "execution_count": 70,
   "metadata": {},
   "outputs": [
    {
     "data": {
      "text/plain": [
       "dict_keys(['reqId', 'code', 'msg', 'data', 'timestamp'])"
      ]
     },
     "execution_count": 70,
     "metadata": {},
     "output_type": "execute_result"
    }
   ],
   "source": [
    "italy_json.keys()"
   ]
  },
  {
   "cell_type": "code",
   "execution_count": 71,
   "metadata": {},
   "outputs": [
    {
     "data": {
      "text/plain": [
       "dict_keys(['list'])"
      ]
     },
     "execution_count": 71,
     "metadata": {},
     "output_type": "execute_result"
    }
   ],
   "source": [
    "italy_json['data'].keys()"
   ]
  },
  {
   "cell_type": "markdown",
   "metadata": {},
   "source": [
    "结合页面观察，发现各国家的历史数据结构和各省的类似。\n",
    "<img src=\"https://imgkr.cn-bj.ufileos.com/ee6f9d6a-b174-4242-8789-39bf02b7af5b.png\">"
   ]
  },
  {
   "cell_type": "code",
   "execution_count": 72,
   "metadata": {},
   "outputs": [
    {
     "data": {
      "text/plain": [
       "{'date': '2020-01-31',\n",
       " 'today': {'confirm': 2,\n",
       "  'suspect': 0,\n",
       "  'heal': 0,\n",
       "  'dead': 0,\n",
       "  'severe': None,\n",
       "  'storeConfirm': None},\n",
       " 'total': {'confirm': 2,\n",
       "  'suspect': 0,\n",
       "  'heal': 0,\n",
       "  'dead': 0,\n",
       "  'severe': 0,\n",
       "  'input': 0},\n",
       " 'extData': None,\n",
       " 'lastUpdateTime': None}"
      ]
     },
     "execution_count": 72,
     "metadata": {},
     "output_type": "execute_result"
    }
   ],
   "source": [
    "italy_json['data']['list'][0] # 查看数据内容"
   ]
  },
  {
   "cell_type": "markdown",
   "metadata": {},
   "source": [
    "每个国家的数据格式和之前各省的几乎一样，因此使用定义好的方法生成数据，然后把国家名称写入数据"
   ]
  },
  {
   "cell_type": "code",
   "execution_count": 73,
   "metadata": {},
   "outputs": [
    {
     "data": {
      "text/html": [
       "<div>\n",
       "<style scoped>\n",
       "    .dataframe tbody tr th:only-of-type {\n",
       "        vertical-align: middle;\n",
       "    }\n",
       "\n",
       "    .dataframe tbody tr th {\n",
       "        vertical-align: top;\n",
       "    }\n",
       "\n",
       "    .dataframe thead th {\n",
       "        text-align: right;\n",
       "    }\n",
       "</style>\n",
       "<table border=\"1\" class=\"dataframe\">\n",
       "  <thead>\n",
       "    <tr style=\"text-align: right;\">\n",
       "      <th></th>\n",
       "      <th>date</th>\n",
       "      <th>total_confirm</th>\n",
       "      <th>total_suspect</th>\n",
       "      <th>total_heal</th>\n",
       "      <th>total_dead</th>\n",
       "      <th>total_severe</th>\n",
       "      <th>total_input</th>\n",
       "      <th>today_confirm</th>\n",
       "      <th>today_suspect</th>\n",
       "      <th>today_heal</th>\n",
       "      <th>today_dead</th>\n",
       "      <th>today_severe</th>\n",
       "      <th>today_storeConfirm</th>\n",
       "      <th>today_input</th>\n",
       "      <th>name</th>\n",
       "    </tr>\n",
       "  </thead>\n",
       "  <tbody>\n",
       "    <tr>\n",
       "      <th>0</th>\n",
       "      <td>2020-01-31</td>\n",
       "      <td>2</td>\n",
       "      <td>0</td>\n",
       "      <td>0</td>\n",
       "      <td>0</td>\n",
       "      <td>0</td>\n",
       "      <td>0</td>\n",
       "      <td>2</td>\n",
       "      <td>0.0</td>\n",
       "      <td>0</td>\n",
       "      <td>0</td>\n",
       "      <td>NaN</td>\n",
       "      <td>None</td>\n",
       "      <td>NaN</td>\n",
       "      <td>意大利</td>\n",
       "    </tr>\n",
       "    <tr>\n",
       "      <th>1</th>\n",
       "      <td>2020-02-01</td>\n",
       "      <td>2</td>\n",
       "      <td>0</td>\n",
       "      <td>0</td>\n",
       "      <td>0</td>\n",
       "      <td>0</td>\n",
       "      <td>0</td>\n",
       "      <td>0</td>\n",
       "      <td>0.0</td>\n",
       "      <td>0</td>\n",
       "      <td>0</td>\n",
       "      <td>NaN</td>\n",
       "      <td>None</td>\n",
       "      <td>0.0</td>\n",
       "      <td>意大利</td>\n",
       "    </tr>\n",
       "    <tr>\n",
       "      <th>2</th>\n",
       "      <td>2020-02-02</td>\n",
       "      <td>2</td>\n",
       "      <td>0</td>\n",
       "      <td>0</td>\n",
       "      <td>0</td>\n",
       "      <td>0</td>\n",
       "      <td>0</td>\n",
       "      <td>0</td>\n",
       "      <td>0.0</td>\n",
       "      <td>0</td>\n",
       "      <td>0</td>\n",
       "      <td>NaN</td>\n",
       "      <td>None</td>\n",
       "      <td>0.0</td>\n",
       "      <td>意大利</td>\n",
       "    </tr>\n",
       "    <tr>\n",
       "      <th>3</th>\n",
       "      <td>2020-02-03</td>\n",
       "      <td>2</td>\n",
       "      <td>0</td>\n",
       "      <td>0</td>\n",
       "      <td>0</td>\n",
       "      <td>0</td>\n",
       "      <td>0</td>\n",
       "      <td>0</td>\n",
       "      <td>0.0</td>\n",
       "      <td>0</td>\n",
       "      <td>0</td>\n",
       "      <td>NaN</td>\n",
       "      <td>None</td>\n",
       "      <td>0.0</td>\n",
       "      <td>意大利</td>\n",
       "    </tr>\n",
       "    <tr>\n",
       "      <th>4</th>\n",
       "      <td>2020-02-04</td>\n",
       "      <td>2</td>\n",
       "      <td>0</td>\n",
       "      <td>0</td>\n",
       "      <td>0</td>\n",
       "      <td>0</td>\n",
       "      <td>0</td>\n",
       "      <td>0</td>\n",
       "      <td>0.0</td>\n",
       "      <td>0</td>\n",
       "      <td>0</td>\n",
       "      <td>NaN</td>\n",
       "      <td>None</td>\n",
       "      <td>0.0</td>\n",
       "      <td>意大利</td>\n",
       "    </tr>\n",
       "  </tbody>\n",
       "</table>\n",
       "</div>"
      ],
      "text/plain": [
       "         date  total_confirm  total_suspect  total_heal  total_dead  \\\n",
       "0  2020-01-31              2              0           0           0   \n",
       "1  2020-02-01              2              0           0           0   \n",
       "2  2020-02-02              2              0           0           0   \n",
       "3  2020-02-03              2              0           0           0   \n",
       "4  2020-02-04              2              0           0           0   \n",
       "\n",
       "   total_severe  total_input  today_confirm  today_suspect  today_heal  \\\n",
       "0             0            0              2            0.0           0   \n",
       "1             0            0              0            0.0           0   \n",
       "2             0            0              0            0.0           0   \n",
       "3             0            0              0            0.0           0   \n",
       "4             0            0              0            0.0           0   \n",
       "\n",
       "   today_dead  today_severe today_storeConfirm  today_input name  \n",
       "0           0           NaN               None          NaN  意大利  \n",
       "1           0           NaN               None          0.0  意大利  \n",
       "2           0           NaN               None          0.0  意大利  \n",
       "3           0           NaN               None          0.0  意大利  \n",
       "4           0           NaN               None          0.0  意大利  "
      ]
     },
     "execution_count": 73,
     "metadata": {},
     "output_type": "execute_result"
    }
   ],
   "source": [
    "data_italy = get_data(italy_json['data']['list'],['date']) # 生成数据\n",
    "data_italy['name'] = '意大利' # 写入意大利国家名称\n",
    "data_italy.head()"
   ]
  },
  {
   "cell_type": "markdown",
   "metadata": {},
   "source": [
    "因为原始数据中没有国家名称，为了得到每个国家的名称，需要生成国家编号和国家名称的键值对，这样就可以存储国家名称，在之前的世界各国实时数据today_world中有国家的编号和名称，可以用它来生成键值对"
   ]
  },
  {
   "cell_type": "code",
   "execution_count": 74,
   "metadata": {},
   "outputs": [
    {
     "data": {
      "text/html": [
       "<div>\n",
       "<style scoped>\n",
       "    .dataframe tbody tr th:only-of-type {\n",
       "        vertical-align: middle;\n",
       "    }\n",
       "\n",
       "    .dataframe tbody tr th {\n",
       "        vertical-align: top;\n",
       "    }\n",
       "\n",
       "    .dataframe thead th {\n",
       "        text-align: right;\n",
       "    }\n",
       "</style>\n",
       "<table border=\"1\" class=\"dataframe\">\n",
       "  <thead>\n",
       "    <tr style=\"text-align: right;\">\n",
       "      <th></th>\n",
       "      <th>id</th>\n",
       "      <th>name</th>\n",
       "    </tr>\n",
       "  </thead>\n",
       "  <tbody>\n",
       "    <tr>\n",
       "      <th>0</th>\n",
       "      <td>9577772</td>\n",
       "      <td>突尼斯</td>\n",
       "    </tr>\n",
       "    <tr>\n",
       "      <th>1</th>\n",
       "      <td>9507896</td>\n",
       "      <td>塞尔维亚</td>\n",
       "    </tr>\n",
       "    <tr>\n",
       "      <th>2</th>\n",
       "      <td>0</td>\n",
       "      <td>中国</td>\n",
       "    </tr>\n",
       "    <tr>\n",
       "      <th>3</th>\n",
       "      <td>1</td>\n",
       "      <td>日本</td>\n",
       "    </tr>\n",
       "    <tr>\n",
       "      <th>4</th>\n",
       "      <td>2</td>\n",
       "      <td>泰国</td>\n",
       "    </tr>\n",
       "  </tbody>\n",
       "</table>\n",
       "</div>"
      ],
      "text/plain": [
       "        id  name\n",
       "0  9577772   突尼斯\n",
       "1  9507896  塞尔维亚\n",
       "2        0    中国\n",
       "3        1    日本\n",
       "4        2    泰国"
      ]
     },
     "execution_count": 74,
     "metadata": {},
     "output_type": "execute_result"
    }
   ],
   "source": [
    "today_world[['id','name']].head()"
   ]
  },
  {
   "cell_type": "code",
   "execution_count": 77,
   "metadata": {},
   "outputs": [],
   "source": [
    "country_dict = { key:value for key,value in zip(today_world['id'],today_world[ 'name'] )}   "
   ]
  },
  {
   "cell_type": "code",
   "execution_count": 78,
   "metadata": {},
   "outputs": [
    {
     "name": "stdout",
     "output_type": "stream",
     "text": [
      "9577772 突尼斯\n",
      "9507896 塞尔维亚\n",
      "0 中国\n",
      "1 日本\n",
      "2 泰国\n"
     ]
    }
   ],
   "source": [
    "# 查看前五个内容\n",
    "count = 0\n",
    "for i in country_dict:\n",
    "    print(i,country_dict[i])\n",
    "    count += 1\n",
    "    if count == 5:\n",
    "        break"
   ]
  },
  {
   "cell_type": "markdown",
   "metadata": {},
   "source": [
    "通过每个国家的编号访问每个国家历史数据的地址，然后获取每一个国家的历史数据"
   ]
  },
  {
   "cell_type": "code",
   "execution_count": 79,
   "metadata": {},
   "outputs": [
    {
     "name": "stdout",
     "output_type": "stream",
     "text": [
      "-------------------- 突尼斯 成功 (105, 15) (105, 15) ,累计耗时: 0 --------------------\n",
      "-------------------- 塞尔维亚 成功 (110, 15) (215, 15) ,累计耗时: 11 --------------------\n",
      "-------------------- 中国 成功 (146, 15) (361, 15) ,累计耗时: 21 --------------------\n",
      "-------------------- 日本 成功 (135, 15) (496, 15) ,累计耗时: 31 --------------------\n",
      "-------------------- 泰国 成功 (121, 15) (617, 15) ,累计耗时: 41 --------------------\n",
      "-------------------- 新加坡 成功 (138, 15) (755, 15) ,累计耗时: 52 --------------------\n",
      "-------------------- 韩国 成功 (161, 15) (916, 15) ,累计耗时: 62 --------------------\n",
      "-------------------- 澳大利亚 成功 (120, 15) (1036, 15) ,累计耗时: 72 --------------------\n",
      "-------------------- 德国 成功 (127, 15) (1163, 15) ,累计耗时: 82 --------------------\n",
      "-------------------- 美国 成功 (132, 15) (1295, 15) ,累计耗时: 93 --------------------\n",
      "-------------------- 马来西亚 成功 (124, 15) (1419, 15) ,累计耗时: 103 --------------------\n",
      "-------------------- 越南 成功 (95, 15) (1514, 15) ,累计耗时: 113 --------------------\n",
      "-------------------- 圣巴泰勒米 成功 (30, 15) (1544, 15) ,累计耗时: 124 --------------------\n",
      "-------------------- 肯尼亚 成功 (99, 15) (1643, 15) ,累计耗时: 134 --------------------\n",
      "-------------------- 伊朗 成功 (132, 15) (1775, 15) ,累计耗时: 144 --------------------\n",
      "-------------------- 以色列 成功 (124, 15) (1899, 15) ,累计耗时: 154 --------------------\n",
      "-------------------- 毛利亚尼亚 成功 (12, 15) (1911, 15) ,累计耗时: 165 --------------------\n",
      "-------------------- 黎巴嫩 成功 (107, 15) (2018, 15) ,累计耗时: 175 --------------------\n",
      "-------------------- 克罗地亚 成功 (108, 15) (2126, 15) ,累计耗时: 185 --------------------\n",
      "-------------------- 奥地利 成功 (118, 15) (2244, 15) ,累计耗时: 196 --------------------\n",
      "-------------------- 瑞士 成功 (124, 15) (2368, 15) ,累计耗时: 206 --------------------\n",
      "-------------------- 希腊 成功 (113, 15) (2481, 15) ,累计耗时: 216 --------------------\n",
      "-------------------- 毛里求斯 成功 (85, 15) (2566, 15) ,累计耗时: 226 --------------------\n",
      "-------------------- 爱沙尼亚 成功 (107, 15) (2673, 15) ,累计耗时: 237 --------------------\n",
      "-------------------- 北马其顿 成功 (97, 15) (2770, 15) ,累计耗时: 247 --------------------\n",
      "-------------------- 白俄罗斯 成功 (102, 15) (2872, 15) ,累计耗时: 257 --------------------\n",
      "-------------------- 立陶宛 成功 (104, 15) (2976, 15) ,累计耗时: 267 --------------------\n",
      "-------------------- 阿塞拜疆 成功 (103, 15) (3079, 15) ,累计耗时: 278 --------------------\n",
      "-------------------- 美属维尔京群岛 成功 (30, 15) (3109, 15) ,累计耗时: 288 --------------------\n",
      "-------------------- 蒙古 成功 (61, 15) (3170, 15) ,累计耗时: 298 --------------------\n",
      "-------------------- 乌克兰 成功 (107, 15) (3277, 15) ,累计耗时: 308 --------------------\n",
      "-------------------- 波兰 成功 (112, 15) (3389, 15) ,累计耗时: 319 --------------------\n",
      "-------------------- 波黑 成功 (99, 15) (3488, 15) ,累计耗时: 329 --------------------\n",
      "-------------------- 蒙特塞拉特 成功 (34, 15) (3522, 15) ,累计耗时: 339 --------------------\n",
      "-------------------- 南非 成功 (113, 15) (3635, 15) ,累计耗时: 349 --------------------\n",
      "-------------------- 布隆迪 成功 (40, 15) (3675, 15) ,累计耗时: 360 --------------------\n",
      "-------------------- 南苏丹 成功 (48, 15) (3723, 15) ,累计耗时: 370 --------------------\n",
      "-------------------- 马耳他 成功 (84, 15) (3807, 15) ,累计耗时: 380 --------------------\n",
      "-------------------- 摩尔多瓦 成功 (101, 15) (3908, 15) ,累计耗时: 390 --------------------\n",
      "-------------------- 保加利亚 成功 (105, 15) (4013, 15) ,累计耗时: 401 --------------------\n",
      "-------------------- 孟加拉 成功 (95, 15) (4108, 15) ,累计耗时: 411 --------------------\n",
      "-------------------- 阿尔巴尼亚 成功 (88, 15) (4196, 15) ,累计耗时: 421 --------------------\n",
      "-------------------- 巴勒斯坦 成功 (95, 15) (4291, 15) ,累计耗时: 431 --------------------\n",
      "-------------------- 科摩罗 成功 (34, 15) (4325, 15) ,累计耗时: 443 --------------------\n",
      "-------------------- 阿富汗 成功 (103, 15) (4428, 15) ,累计耗时: 453 --------------------\n",
      "-------------------- 沙特阿拉伯 成功 (115, 15) (4543, 15) ,累计耗时: 464 --------------------\n",
      "-------------------- 新西兰 成功 (108, 15) (4651, 15) ,累计耗时: 474 --------------------\n",
      "-------------------- 塔吉克斯坦 成功 (54, 15) (4705, 15) ,累计耗时: 484 --------------------\n",
      "-------------------- 泽西岛 成功 (30, 15) (4735, 15) ,累计耗时: 494 --------------------\n",
      "-------------------- 叙利亚 成功 (50, 15) (4785, 15) ,累计耗时: 505 --------------------\n",
      "-------------------- 巴拿马 成功 (98, 15) (4883, 15) ,累计耗时: 515 --------------------\n",
      "-------------------- 古巴 成功 (86, 15) (4969, 15) ,累计耗时: 525 --------------------\n",
      "-------------------- 尼日利亚 成功 (105, 15) (5074, 15) ,累计耗时: 535 --------------------\n",
      "-------------------- 摩洛哥 成功 (112, 15) (5186, 15) ,累计耗时: 546 --------------------\n",
      "-------------------- 塞内加尔 成功 (108, 15) (5294, 15) ,累计耗时: 556 --------------------\n",
      "-------------------- 老挝 成功 (44, 15) (5338, 15) ,累计耗时: 566 --------------------\n",
      "-------------------- 巴哈马 成功 (62, 15) (5400, 15) ,累计耗时: 576 --------------------\n",
      "-------------------- 马约特岛 成功 (40, 15) (5440, 15) ,累计耗时: 588 --------------------\n",
      "-------------------- 斯洛文尼亚 成功 (101, 15) (5541, 15) ,累计耗时: 598 --------------------\n",
      "-------------------- 卢森堡 成功 (106, 15) (5647, 15) ,累计耗时: 608 --------------------\n",
      "-------------------- 爱尔兰 成功 (115, 15) (5762, 15) ,累计耗时: 618 --------------------\n",
      "-------------------- 厄瓜多尔 成功 (102, 15) (5864, 15) ,累计耗时: 629 --------------------\n",
      "-------------------- 捷克 成功 (116, 15) (5980, 15) ,累计耗时: 639 --------------------\n",
      "-------------------- 匈牙利 成功 (114, 15) (6094, 15) ,累计耗时: 649 --------------------\n",
      "-------------------- 法属圭亚那 成功 (48, 15) (6142, 15) ,累计耗时: 660 --------------------\n",
      "-------------------- 多哥共和国 成功 (68, 15) (6210, 15) ,累计耗时: 670 --------------------\n",
      "-------------------- 哥斯达黎加 成功 (90, 15) (6300, 15) ,累计耗时: 680 --------------------\n",
      "-------------------- 文莱 成功 (79, 15) (6379, 15) ,累计耗时: 691 --------------------\n",
      "-------------------- 法罗群岛 成功 (47, 15) (6426, 15) ,累计耗时: 701 --------------------\n",
      "-------------------- 马提尼克岛 成功 (57, 15) (6483, 15) ,累计耗时: 711 --------------------\n",
      "-------------------- 荷兰 成功 (125, 15) (6608, 15) ,累计耗时: 721 --------------------\n",
      "-------------------- 巴西 成功 (118, 15) (6726, 15) ,累计耗时: 732 --------------------\n",
      "-------------------- 洪都拉斯 成功 (82, 15) (6808, 15) ,累计耗时: 742 --------------------\n",
      "-------------------- 乌拉圭 成功 (95, 15) (6903, 15) ,累计耗时: 752 --------------------\n",
      "-------------------- 秘鲁 成功 (110, 15) (7013, 15) ,累计耗时: 762 --------------------\n",
      "-------------------- 智利 成功 (117, 15) (7130, 15) ,累计耗时: 773 --------------------\n",
      "-------------------- 格陵兰 成功 (37, 15) (7167, 15) ,累计耗时: 783 --------------------\n",
      "-------------------- 圣巴托洛谬岛 成功 (30, 15) (7197, 15) ,累计耗时: 793 --------------------\n",
      "-------------------- 马尔代夫 成功 (82, 15) (7279, 15) ,累计耗时: 803 --------------------\n",
      "-------------------- 委内瑞拉 成功 (79, 15) (7358, 15) ,累计耗时: 814 --------------------\n",
      "-------------------- 毛里塔尼亚 成功 (67, 15) (7425, 15) ,累计耗时: 824 --------------------\n",
      "-------------------- 纳米比亚 成功 (44, 15) (7469, 15) ,累计耗时: 834 --------------------\n",
      "-------------------- 法属留尼汪岛 成功 (41, 15) (7510, 15) ,累计耗时: 845 --------------------\n",
      "-------------------- 波多黎各 成功 (47, 15) (7557, 15) ,累计耗时: 856 --------------------\n",
      "-------------------- 加纳 成功 (87, 15) (7644, 15) ,累计耗时: 866 --------------------\n",
      "-------------------- 赤道几内亚 成功 (71, 15) (7715, 15) ,累计耗时: 876 --------------------\n",
      "-------------------- 几内亚 成功 (92, 15) (7807, 15) ,累计耗时: 886 --------------------\n",
      "-------------------- 卢旺达 成功 (92, 15) (7899, 15) ,累计耗时: 897 --------------------\n",
      "-------------------- 格林纳达 成功 (39, 15) (7938, 15) ,累计耗时: 907 --------------------\n",
      "-------------------- 斯威士兰 成功 (72, 15) (8010, 15) ,累计耗时: 917 --------------------\n",
      "-------------------- 坦桑尼亚 成功 (74, 15) (8084, 15) ,累计耗时: 927 --------------------\n",
      "-------------------- 贝宁 成功 (68, 15) (8152, 15) ,累计耗时: 938 --------------------\n",
      "-------------------- 刚果（金） 成功 (98, 15) (8250, 15) ,累计耗时: 948 --------------------\n",
      "-------------------- 中非共和国 成功 (67, 15) (8317, 15) ,累计耗时: 958 --------------------\n",
      "-------------------- 利比里亚 成功 (69, 15) (8386, 15) ,累计耗时: 968 --------------------\n",
      "-------------------- 索马里 成功 (76, 15) (8462, 15) ,累计耗时: 979 --------------------\n",
      "-------------------- 塞拉利昂 成功 (72, 15) (8534, 15) ,累计耗时: 990 --------------------\n",
      "-------------------- 乍得 成功 (66, 15) (8600, 15) ,累计耗时: 1000 --------------------\n",
      "-------------------- 赞比亚 成功 (85, 15) (8685, 15) ,累计耗时: 1010 --------------------\n",
      "-------------------- 巴巴多斯 成功 (52, 15) (8737, 15) ,累计耗时: 1020 --------------------\n",
      "-------------------- 马里 成功 (87, 15) (8824, 15) ,累计耗时: 1031 --------------------\n",
      "-------------------- 阿根廷 成功 (111, 15) (8935, 15) ,累计耗时: 1041 --------------------\n"
     ]
    },
    {
     "name": "stdout",
     "output_type": "stream",
     "text": [
      "-------------------- 法属波利尼西亚 成功 (36, 15) (8971, 15) ,累计耗时: 1051 --------------------\n",
      "-------------------- 巴林 成功 (116, 15) (9087, 15) ,累计耗时: 1061 --------------------\n",
      "-------------------- 莫桑比克 成功 (78, 15) (9165, 15) ,累计耗时: 1072 --------------------\n",
      "-------------------- 喀麦隆 成功 (92, 15) (9257, 15) ,累计耗时: 1082 --------------------\n",
      "-------------------- 乌干达 成功 (89, 15) (9346, 15) ,累计耗时: 1093 --------------------\n",
      "-------------------- 厄立特里亚 成功 (50, 15) (9396, 15) ,累计耗时: 1103 --------------------\n",
      "-------------------- 刚果（布） 成功 (73, 15) (9469, 15) ,累计耗时: 1114 --------------------\n",
      "-------------------- 津巴布韦 成功 (77, 15) (9546, 15) ,累计耗时: 1124 --------------------\n",
      "-------------------- 丹麦 成功 (121, 15) (9667, 15) ,累计耗时: 1135 --------------------\n",
      "-------------------- 阿鲁巴 成功 (34, 15) (9701, 15) ,累计耗时: 1146 --------------------\n",
      "-------------------- 斐济 成功 (57, 15) (9758, 15) ,累计耗时: 1157 --------------------\n",
      "-------------------- 伯利兹 成功 (56, 15) (9814, 15) ,累计耗时: 1167 --------------------\n",
      "-------------------- 缅甸 成功 (82, 15) (9896, 15) ,累计耗时: 1177 --------------------\n",
      "-------------------- 塞浦路斯 成功 (102, 15) (9998, 15) ,累计耗时: 1188 --------------------\n",
      "-------------------- 关岛 成功 (33, 15) (10031, 15) ,累计耗时: 1199 --------------------\n",
      "-------------------- 科索沃 成功 (34, 15) (10065, 15) ,累计耗时: 1209 --------------------\n",
      "-------------------- 圣皮埃尔岛和密克隆岛 成功 (21, 15) (10086, 15) ,累计耗时: 1219 --------------------\n",
      "-------------------- 吉尔吉斯斯坦 成功 (88, 15) (10174, 15) ,累计耗时: 1229 --------------------\n",
      "-------------------- 博茨瓦纳 成功 (38, 15) (10212, 15) ,累计耗时: 1239 --------------------\n",
      "-------------------- 尼日尔 成功 (89, 15) (10301, 15) ,累计耗时: 1250 --------------------\n",
      "-------------------- 苏里南 成功 (58, 15) (10359, 15) ,累计耗时: 1260 --------------------\n",
      "-------------------- 佛得角 成功 (70, 15) (10429, 15) ,累计耗时: 1270 --------------------\n",
      "-------------------- 萨尔瓦多 成功 (71, 15) (10500, 15) ,累计耗时: 1280 --------------------\n",
      "-------------------- 圭亚那 成功 (60, 15) (10560, 15) ,累计耗时: 1291 --------------------\n",
      "-------------------- 尼加拉瓜 成功 (60, 15) (10620, 15) ,累计耗时: 1301 --------------------\n",
      "-------------------- 冈比亚 成功 (41, 15) (10661, 15) ,累计耗时: 1311 --------------------\n",
      "-------------------- 东帝汶 成功 (38, 15) (10699, 15) ,累计耗时: 1321 --------------------\n",
      "-------------------- 巴基斯坦 成功 (117, 15) (10816, 15) ,累计耗时: 1332 --------------------\n",
      "-------------------- 埃及 成功 (115, 15) (10931, 15) ,累计耗时: 1342 --------------------\n",
      "-------------------- 科威特 成功 (114, 15) (11045, 15) ,累计耗时: 1352 --------------------\n",
      "-------------------- 斯洛伐克 成功 (101, 15) (11146, 15) ,累计耗时: 1363 --------------------\n",
      "-------------------- 直布罗陀 成功 (39, 15) (11185, 15) ,累计耗时: 1373 --------------------\n",
      "-------------------- 摩纳哥 成功 (69, 15) (11254, 15) ,累计耗时: 1383 --------------------\n",
      "-------------------- 巴拉圭 成功 (85, 15) (11339, 15) ,累计耗时: 1393 --------------------\n",
      "-------------------- 荷属安的列斯 成功 (27, 15) (11366, 15) ,累计耗时: 1404 --------------------\n",
      "-------------------- 多米尼克 成功 (38, 15) (11404, 15) ,累计耗时: 1414 --------------------\n",
      "-------------------- 乌兹别克斯坦 成功 (101, 15) (11505, 15) ,累计耗时: 1424 --------------------\n",
      "-------------------- 黑山 成功 (84, 15) (11589, 15) ,累计耗时: 1434 --------------------\n",
      "-------------------- 危地马拉 成功 (77, 15) (11666, 15) ,累计耗时: 1445 --------------------\n",
      "-------------------- 加蓬 成功 (88, 15) (11754, 15) ,累计耗时: 1455 --------------------\n",
      "-------------------- 苏丹 成功 (83, 15) (11837, 15) ,累计耗时: 1465 --------------------\n",
      "-------------------- 利比亚 成功 (73, 15) (11910, 15) ,累计耗时: 1475 --------------------\n",
      "-------------------- 圣马丁岛 成功 (36, 15) (11946, 15) ,累计耗时: 1485 --------------------\n",
      "-------------------- 土耳其 成功 (112, 15) (12058, 15) ,累计耗时: 1496 --------------------\n",
      "-------------------- 巴布亚新几内亚 成功 (36, 15) (12094, 15) ,累计耗时: 1506 --------------------\n",
      "-------------------- 多米尼加 成功 (88, 15) (12182, 15) ,累计耗时: 1516 --------------------\n",
      "-------------------- 约旦 成功 (100, 15) (12282, 15) ,累计耗时: 1526 --------------------\n",
      "-------------------- 亚美尼亚 成功 (106, 15) (12388, 15) ,累计耗时: 1537 --------------------\n",
      "-------------------- 圣基茨和尼维斯 成功 (39, 15) (12427, 15) ,累计耗时: 1547 --------------------\n",
      "-------------------- 瓜德罗普 成功 (40, 15) (12467, 15) ,累计耗时: 1557 --------------------\n",
      "-------------------- 安提瓜和巴布达 成功 (53, 15) (12520, 15) ,累计耗时: 1568 --------------------\n",
      "-------------------- 玻利维亚 成功 (82, 15) (12602, 15) ,累计耗时: 1578 --------------------\n",
      "-------------------- 哥伦比亚 成功 (105, 15) (12707, 15) ,累计耗时: 1588 --------------------\n",
      "-------------------- 圣文森特和格林纳丁斯 成功 (37, 15) (12744, 15) ,累计耗时: 1598 --------------------\n",
      "-------------------- 圣卢西亚 成功 (37, 15) (12781, 15) ,累计耗时: 1609 --------------------\n",
      "-------------------- 法国 成功 (128, 15) (12909, 15) ,累计耗时: 1620 --------------------\n",
      "-------------------- 阿联酋 成功 (115, 15) (13024, 15) ,累计耗时: 1630 --------------------\n",
      "-------------------- 加拿大 成功 (126, 15) (13150, 15) ,累计耗时: 1640 --------------------\n",
      "-------------------- 印度 成功 (122, 15) (13272, 15) ,累计耗时: 1650 --------------------\n",
      "-------------------- 英国 成功 (128, 15) (13400, 15) ,累计耗时: 1661 --------------------\n",
      "-------------------- 意大利 成功 (150, 15) (13550, 15) ,累计耗时: 1671 --------------------\n",
      "-------------------- 俄罗斯 成功 (120, 15) (13670, 15) ,累计耗时: 1681 --------------------\n",
      "-------------------- 菲律宾 成功 (116, 15) (13786, 15) ,累计耗时: 1692 --------------------\n",
      "-------------------- 芬兰 成功 (120, 15) (13906, 15) ,累计耗时: 1702 --------------------\n",
      "-------------------- 尼泊尔 成功 (72, 15) (13978, 15) ,累计耗时: 1712 --------------------\n",
      "-------------------- 葡萄牙 成功 (111, 15) (14089, 15) ,累计耗时: 1722 --------------------\n",
      "-------------------- 也门 成功 (57, 15) (14146, 15) ,累计耗时: 1732 --------------------\n",
      "-------------------- 塞舌尔 成功 (41, 15) (14187, 15) ,累计耗时: 1743 --------------------\n",
      "-------------------- 西班牙 成功 (129, 15) (14316, 15) ,累计耗时: 1754 --------------------\n",
      "-------------------- 斯里兰卡 成功 (104, 15) (14420, 15) ,累计耗时: 1764 --------------------\n",
      "-------------------- 阿尔及利亚 成功 (108, 15) (14528, 15) ,累计耗时: 1774 --------------------\n",
      "-------------------- 柬埔寨 成功 (72, 15) (14600, 15) ,累计耗时: 1784 --------------------\n",
      "-------------------- 海地 成功 (66, 15) (14666, 15) ,累计耗时: 1795 --------------------\n",
      "-------------------- 瑞典 成功 (121, 15) (14787, 15) ,累计耗时: 1805 --------------------\n",
      "-------------------- 特里尼达和多巴哥 成功 (45, 15) (14832, 15) ,累计耗时: 1815 --------------------\n",
      "-------------------- 吉布提 成功 (83, 15) (14915, 15) ,累计耗时: 1826 --------------------\n",
      "-------------------- 圣多美与普林西比 成功 (36, 15) (14951, 15) ,累计耗时: 1836 --------------------\n",
      "-------------------- 布基纳法索 成功 (99, 15) (15050, 15) ,累计耗时: 1846 --------------------\n",
      "-------------------- 比利时 成功 (122, 15) (15172, 15) ,累计耗时: 1857 --------------------\n",
      "-------------------- 伊拉克 成功 (123, 15) (15295, 15) ,累计耗时: 1867 --------------------\n",
      "-------------------- 马拉维 成功 (65, 15) (15360, 15) ,累计耗时: 1878 --------------------\n",
      "-------------------- 冰岛 成功 (109, 15) (15469, 15) ,累计耗时: 1888 --------------------\n",
      "-------------------- 几内亚比绍 成功 (70, 15) (15539, 15) ,累计耗时: 1898 --------------------\n",
      "-------------------- 拉脱维亚 成功 (107, 15) (15646, 15) ,累计耗时: 1909 --------------------\n",
      "-------------------- 不丹 成功 (43, 15) (15689, 15) ,累计耗时: 1919 --------------------\n",
      "-------------------- 挪威 成功 (122, 15) (15811, 15) ,累计耗时: 1929 --------------------\n",
      "-------------------- 印度尼西亚 成功 (113, 15) (15924, 15) ,累计耗时: 1939 --------------------\n",
      "-------------------- 安哥拉 成功 (68, 15) (15992, 15) ,累计耗时: 1950 --------------------\n",
      "-------------------- 开曼群岛 成功 (37, 15) (16029, 15) ,累计耗时: 1960 --------------------\n",
      "-------------------- 埃塞俄比亚 成功 (87, 15) (16116, 15) ,累计耗时: 1970 --------------------\n",
      "-------------------- 梵蒂冈 成功 (42, 15) (16158, 15) ,累计耗时: 1981 --------------------\n",
      "-------------------- 科特迪瓦 成功 (100, 15) (16258, 15) ,累计耗时: 1991 --------------------\n",
      "-------------------- 卡塔尔 成功 (115, 15) (16373, 15) ,累计耗时: 2001 --------------------\n",
      "-------------------- 莱索托 成功 (26, 15) (16399, 15) ,累计耗时: 2012 --------------------\n",
      "-------------------- 格鲁吉亚 成功 (107, 15) (16506, 15) ,累计耗时: 2022 --------------------\n",
      "-------------------- 墨西哥 成功 (112, 15) (16618, 15) ,累计耗时: 2032 --------------------\n",
      "-------------------- 圣马力诺 成功 (80, 15) (16698, 15) ,累计耗时: 2042 --------------------\n",
      "-------------------- 哈萨克斯坦 成功 (105, 15) (16803, 15) ,累计耗时: 2053 --------------------\n",
      "-------------------- 安道尔 成功 (90, 15) (16893, 15) ,累计耗时: 2063 --------------------\n"
     ]
    },
    {
     "name": "stdout",
     "output_type": "stream",
     "text": [
      "-------------------- 牙买加 成功 (75, 15) (16968, 15) ,累计耗时: 2074 --------------------\n",
      "-------------------- 格恩西岛 成功 (29, 15) (16997, 15) ,累计耗时: 2084 --------------------\n",
      "-------------------- 罗马尼亚 成功 (114, 15) (17111, 15) ,累计耗时: 2094 --------------------\n",
      "-------------------- 阿曼 成功 (115, 15) (17226, 15) ,累计耗时: 2104 --------------------\n",
      "-------------------- 列支敦士登 成功 (48, 15) (17274, 15) ,累计耗时: 2116 --------------------\n",
      "-------------------- 马达加斯加 成功 (78, 15) (17352, 15) ,累计耗时: 2126 --------------------\n"
     ]
    }
   ],
   "source": [
    "start = time.time()\n",
    "for country_id in country_dict: # 遍历每个国家的编号\n",
    "    \n",
    "    try:\n",
    "        # 按照编号访问每个国家的数据地址，并获取json数据\n",
    "        url = 'https://c.m.163.com/ug/api/wuhan/app/data/list-by-area-code?areaCode='+country_id   \n",
    "        r = requests.get(url, headers=headers)\n",
    "        json_data = json.loads(r.text)\n",
    "        \n",
    "        # 生成每个国家的数据\n",
    "        country_data = get_data(json_data['data']['list'],['date'])\n",
    "        country_data['name'] = country_dict[country_id]\n",
    "\n",
    "        # 数据叠加\n",
    "        if country_id == '9577772':\n",
    "            alltime_world = country_data\n",
    "        else:\n",
    "            alltime_world = pd.concat([alltime_world,country_data]) \n",
    "            \n",
    "        print('-'*20,country_dict[country_id],'成功',country_data.shape,alltime_world.shape,\n",
    "              ',累计耗时:',round(time.time()-start),'-'*20)\n",
    "        \n",
    "        time.sleep(10)\n",
    "\n",
    "    except:\n",
    "        print('-'*20,country_dict[country_id],'wrong','-'*20)"
   ]
  },
  {
   "cell_type": "code",
   "execution_count": 80,
   "metadata": {},
   "outputs": [
    {
     "name": "stdout",
     "output_type": "stream",
     "text": [
      "alltime_world_2020_07_01.csv 保存成功！\n"
     ]
    }
   ],
   "source": [
    "save_data(alltime_world,'alltime_world')"
   ]
  },
  {
   "cell_type": "code",
   "execution_count": null,
   "metadata": {},
   "outputs": [],
   "source": []
  }
 ],
 "metadata": {
  "kernelspec": {
   "display_name": "Python 3",
   "language": "python",
   "name": "python3"
  },
  "language_info": {
   "codemirror_mode": {
    "name": "ipython",
    "version": 3
   },
   "file_extension": ".py",
   "mimetype": "text/x-python",
   "name": "python",
   "nbconvert_exporter": "python",
   "pygments_lexer": "ipython3",
   "version": "3.7.6"
  }
 },
 "nbformat": 4,
 "nbformat_minor": 4
}
